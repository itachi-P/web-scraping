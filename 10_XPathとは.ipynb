{
 "cells": [
  {
   "cell_type": "markdown",
   "id": "cfa69484",
   "metadata": {},
   "source": [
    "# XPathとは\n",
    "## XML文書の特定の要素や属性値の場所を指定する書式\n",
    "### HTMLもXML同様のツリー構造なのでそのまま利用できる"
   ]
  },
  {
   "cell_type": "code",
   "execution_count": 12,
   "id": "8be670a4",
   "metadata": {},
   "outputs": [],
   "source": [
    "from selenium import webdriver\n",
    "browser = webdriver.Chrome()\n",
    "browser.get('https://scraping-for-beginner.herokuapp.com/ranking')\n",
    "from selenium.webdriver.common.by import By"
   ]
  },
  {
   "cell_type": "markdown",
   "id": "b3f8e327",
   "metadata": {},
   "source": [
    "### Chromeの検証ツールで特定の要素を右クリック>Copy XPathと選択すると取得可能\n",
    "#### 欲しい値の外側のIDやクラス名、要素名、属性名等から辿っていくより便利（な場合もある）"
   ]
  },
  {
   "cell_type": "code",
   "execution_count": 13,
   "id": "dc2e959a",
   "metadata": {},
   "outputs": [],
   "source": [
    "xpath = '/html/body/div[2]/div/div[3]/div[4]/dl[1]/dd[1]/span'"
   ]
  },
  {
   "cell_type": "code",
   "execution_count": 14,
   "id": "48f088fa",
   "metadata": {},
   "outputs": [
    {
     "data": {
      "text/plain": [
       "'4.6'"
      ]
     },
     "execution_count": 14,
     "metadata": {},
     "output_type": "execute_result"
    }
   ],
   "source": [
    "browser.find_element(By.XPATH, xpath).text"
   ]
  },
  {
   "cell_type": "code",
   "execution_count": 17,
   "id": "5259ed23",
   "metadata": {},
   "outputs": [],
   "source": [
    "# classのような要素に紐づく属性をXPathでは『@』で表す\n",
    "xpath = '/html/body/div[2]/div/div[3]/div[4]/dl[1]/dd[@class=\"comment\"]'"
   ]
  },
  {
   "cell_type": "code",
   "execution_count": 18,
   "id": "0de2b52c",
   "metadata": {},
   "outputs": [
    {
     "data": {
      "text/plain": [
       "'楽しくて帰りたくなかった'"
      ]
     },
     "execution_count": 18,
     "metadata": {},
     "output_type": "execute_result"
    }
   ],
   "source": [
    "browser.find_element(By.XPATH, xpath).text"
   ]
  },
  {
   "cell_type": "code",
   "execution_count": 21,
   "id": "46611b28",
   "metadata": {},
   "outputs": [],
   "source": [
    "# 指定する文字列が含まれている要素を取得する: contains関数\n",
    "# 「各カテゴリ評価」中のクラス名にevaluateNumberを含む全てのspan要素を取得する\n",
    "xpath = \"//dt[contains(text(), 'evaluateNumber')]\""
   ]
  },
  {
   "cell_type": "code",
   "execution_count": 22,
   "id": "ba78ebb6",
   "metadata": {},
   "outputs": [
    {
     "ename": "NoSuchElementException",
     "evalue": "Message: no such element: Unable to locate element: {\"method\":\"xpath\",\"selector\":\"/html/body/div[2]/div/div[3]/div[4]/span[contains(@class, 'evaluateNumber')]\"}\n  (Session info: chrome=116.0.5845.110); For documentation on this error, please visit: https://www.selenium.dev/documentation/webdriver/troubleshooting/errors#no-such-element-exception\nStacktrace:\n0   chromedriver                        0x0000000107b4a638 chromedriver + 5002808\n1   chromedriver                        0x0000000107b41a53 chromedriver + 4966995\n2   chromedriver                        0x00000001076f2a57 chromedriver + 449111\n3   chromedriver                        0x0000000107738d05 chromedriver + 736517\n4   chromedriver                        0x0000000107738ec1 chromedriver + 736961\n5   chromedriver                        0x000000010777cf04 chromedriver + 1015556\n6   chromedriver                        0x000000010775f41d chromedriver + 893981\n7   chromedriver                        0x000000010777a391 chromedriver + 1004433\n8   chromedriver                        0x000000010775f1c3 chromedriver + 893379\n9   chromedriver                        0x000000010772adf9 chromedriver + 679417\n10  chromedriver                        0x000000010772bfde chromedriver + 683998\n11  chromedriver                        0x0000000107b072d9 chromedriver + 4727513\n12  chromedriver                        0x0000000107b0c2de chromedriver + 4747998\n13  chromedriver                        0x0000000107aca2c9 chromedriver + 4477641\n14  chromedriver                        0x0000000107b0d02d chromedriver + 4751405\n15  chromedriver                        0x0000000107ae00ec chromedriver + 4567276\n16  chromedriver                        0x0000000107b2a7f8 chromedriver + 4872184\n17  chromedriver                        0x0000000107b2a9b7 chromedriver + 4872631\n18  chromedriver                        0x0000000107b3aa1f chromedriver + 4938271\n19  libsystem_pthread.dylib             0x00007ff8082171d3 _pthread_start + 125\n20  libsystem_pthread.dylib             0x00007ff808212bd3 thread_start + 15\n",
     "output_type": "error",
     "traceback": [
      "\u001b[0;31m---------------------------------------------------------------------------\u001b[0m",
      "\u001b[0;31mNoSuchElementException\u001b[0m                    Traceback (most recent call last)",
      "Cell \u001b[0;32mIn[22], line 1\u001b[0m\n\u001b[0;32m----> 1\u001b[0m browser\u001b[38;5;241m.\u001b[39mfind_element(By\u001b[38;5;241m.\u001b[39mXPATH, xpath)\u001b[38;5;241m.\u001b[39mtext\n",
      "File \u001b[0;32m~/anaconda3/lib/python3.11/site-packages/selenium/webdriver/remote/webdriver.py:739\u001b[0m, in \u001b[0;36mWebDriver.find_element\u001b[0;34m(self, by, value)\u001b[0m\n\u001b[1;32m    736\u001b[0m     by \u001b[38;5;241m=\u001b[39m By\u001b[38;5;241m.\u001b[39mCSS_SELECTOR\n\u001b[1;32m    737\u001b[0m     value \u001b[38;5;241m=\u001b[39m \u001b[38;5;124mf\u001b[39m\u001b[38;5;124m'\u001b[39m\u001b[38;5;124m[name=\u001b[39m\u001b[38;5;124m\"\u001b[39m\u001b[38;5;132;01m{\u001b[39;00mvalue\u001b[38;5;132;01m}\u001b[39;00m\u001b[38;5;124m\"\u001b[39m\u001b[38;5;124m]\u001b[39m\u001b[38;5;124m'\u001b[39m\n\u001b[0;32m--> 739\u001b[0m \u001b[38;5;28;01mreturn\u001b[39;00m \u001b[38;5;28mself\u001b[39m\u001b[38;5;241m.\u001b[39mexecute(Command\u001b[38;5;241m.\u001b[39mFIND_ELEMENT, {\u001b[38;5;124m\"\u001b[39m\u001b[38;5;124musing\u001b[39m\u001b[38;5;124m\"\u001b[39m: by, \u001b[38;5;124m\"\u001b[39m\u001b[38;5;124mvalue\u001b[39m\u001b[38;5;124m\"\u001b[39m: value})[\u001b[38;5;124m\"\u001b[39m\u001b[38;5;124mvalue\u001b[39m\u001b[38;5;124m\"\u001b[39m]\n",
      "File \u001b[0;32m~/anaconda3/lib/python3.11/site-packages/selenium/webdriver/remote/webdriver.py:345\u001b[0m, in \u001b[0;36mWebDriver.execute\u001b[0;34m(self, driver_command, params)\u001b[0m\n\u001b[1;32m    343\u001b[0m response \u001b[38;5;241m=\u001b[39m \u001b[38;5;28mself\u001b[39m\u001b[38;5;241m.\u001b[39mcommand_executor\u001b[38;5;241m.\u001b[39mexecute(driver_command, params)\n\u001b[1;32m    344\u001b[0m \u001b[38;5;28;01mif\u001b[39;00m response:\n\u001b[0;32m--> 345\u001b[0m     \u001b[38;5;28mself\u001b[39m\u001b[38;5;241m.\u001b[39merror_handler\u001b[38;5;241m.\u001b[39mcheck_response(response)\n\u001b[1;32m    346\u001b[0m     response[\u001b[38;5;124m\"\u001b[39m\u001b[38;5;124mvalue\u001b[39m\u001b[38;5;124m\"\u001b[39m] \u001b[38;5;241m=\u001b[39m \u001b[38;5;28mself\u001b[39m\u001b[38;5;241m.\u001b[39m_unwrap_value(response\u001b[38;5;241m.\u001b[39mget(\u001b[38;5;124m\"\u001b[39m\u001b[38;5;124mvalue\u001b[39m\u001b[38;5;124m\"\u001b[39m, \u001b[38;5;28;01mNone\u001b[39;00m))\n\u001b[1;32m    347\u001b[0m     \u001b[38;5;28;01mreturn\u001b[39;00m response\n",
      "File \u001b[0;32m~/anaconda3/lib/python3.11/site-packages/selenium/webdriver/remote/errorhandler.py:229\u001b[0m, in \u001b[0;36mErrorHandler.check_response\u001b[0;34m(self, response)\u001b[0m\n\u001b[1;32m    227\u001b[0m         alert_text \u001b[38;5;241m=\u001b[39m value[\u001b[38;5;124m\"\u001b[39m\u001b[38;5;124malert\u001b[39m\u001b[38;5;124m\"\u001b[39m]\u001b[38;5;241m.\u001b[39mget(\u001b[38;5;124m\"\u001b[39m\u001b[38;5;124mtext\u001b[39m\u001b[38;5;124m\"\u001b[39m)\n\u001b[1;32m    228\u001b[0m     \u001b[38;5;28;01mraise\u001b[39;00m exception_class(message, screen, stacktrace, alert_text)  \u001b[38;5;66;03m# type: ignore[call-arg]  # mypy is not smart enough here\u001b[39;00m\n\u001b[0;32m--> 229\u001b[0m \u001b[38;5;28;01mraise\u001b[39;00m exception_class(message, screen, stacktrace)\n",
      "\u001b[0;31mNoSuchElementException\u001b[0m: Message: no such element: Unable to locate element: {\"method\":\"xpath\",\"selector\":\"/html/body/div[2]/div/div[3]/div[4]/span[contains(@class, 'evaluateNumber')]\"}\n  (Session info: chrome=116.0.5845.110); For documentation on this error, please visit: https://www.selenium.dev/documentation/webdriver/troubleshooting/errors#no-such-element-exception\nStacktrace:\n0   chromedriver                        0x0000000107b4a638 chromedriver + 5002808\n1   chromedriver                        0x0000000107b41a53 chromedriver + 4966995\n2   chromedriver                        0x00000001076f2a57 chromedriver + 449111\n3   chromedriver                        0x0000000107738d05 chromedriver + 736517\n4   chromedriver                        0x0000000107738ec1 chromedriver + 736961\n5   chromedriver                        0x000000010777cf04 chromedriver + 1015556\n6   chromedriver                        0x000000010775f41d chromedriver + 893981\n7   chromedriver                        0x000000010777a391 chromedriver + 1004433\n8   chromedriver                        0x000000010775f1c3 chromedriver + 893379\n9   chromedriver                        0x000000010772adf9 chromedriver + 679417\n10  chromedriver                        0x000000010772bfde chromedriver + 683998\n11  chromedriver                        0x0000000107b072d9 chromedriver + 4727513\n12  chromedriver                        0x0000000107b0c2de chromedriver + 4747998\n13  chromedriver                        0x0000000107aca2c9 chromedriver + 4477641\n14  chromedriver                        0x0000000107b0d02d chromedriver + 4751405\n15  chromedriver                        0x0000000107ae00ec chromedriver + 4567276\n16  chromedriver                        0x0000000107b2a7f8 chromedriver + 4872184\n17  chromedriver                        0x0000000107b2a9b7 chromedriver + 4872631\n18  chromedriver                        0x0000000107b3aa1f chromedriver + 4938271\n19  libsystem_pthread.dylib             0x00007ff8082171d3 _pthread_start + 125\n20  libsystem_pthread.dylib             0x00007ff808212bd3 thread_start + 15\n"
     ]
    }
   ],
   "source": [
    "browser.find_element(By.XPATH, xpath).text"
   ]
  },
  {
   "cell_type": "code",
   "execution_count": null,
   "id": "16fb2169",
   "metadata": {},
   "outputs": [],
   "source": []
  }
 ],
 "metadata": {
  "kernelspec": {
   "display_name": "Python 3 (ipykernel)",
   "language": "python",
   "name": "python3"
  },
  "language_info": {
   "codemirror_mode": {
    "name": "ipython",
    "version": 3
   },
   "file_extension": ".py",
   "mimetype": "text/x-python",
   "name": "python",
   "nbconvert_exporter": "python",
   "pygments_lexer": "ipython3",
   "version": "3.11.4"
  }
 },
 "nbformat": 4,
 "nbformat_minor": 5
}
