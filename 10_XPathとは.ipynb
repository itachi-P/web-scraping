{
 "cells": [
  {
   "cell_type": "markdown",
   "id": "b39d3bc7",
   "metadata": {},
   "source": [
    "# XPathとは\n",
    "## XML文書の特定の要素や属性値の場所を指定する言語\n",
    "### HTMLもXML同様のツリー構造なのでそのまま利用できる"
   ]
  },
  {
   "cell_type": "markdown",
   "id": "0ef3850f",
   "metadata": {},
   "source": [
    "#### XPathだけでも多様な記法や関数が存在するが、学習コストの兼ね合いから簡単ですぐ使えるものに留める\n",
    "参考 : [クローラ作成に必須！XPATHの記法まとめ](https://qiita.com/rllllho/items/cb1187cec0fb17fc650a \"Qiita\")"
   ]
  },
  {
   "cell_type": "code",
   "execution_count": 44,
   "id": "a2a1d687",
   "metadata": {},
   "outputs": [],
   "source": [
    "from selenium import webdriver\n",
    "browser = webdriver.Chrome()\n",
    "browser.get('https://scraping-for-beginner.herokuapp.com/ranking')\n",
    "from selenium.webdriver.common.by import By"
   ]
  },
  {
   "cell_type": "markdown",
   "id": "5a58dfa8",
   "metadata": {},
   "source": [
    "### Chromeの検証ツールで特定の要素を右クリック>Copy XPathと選択すると取得可能\n",
    "#### 欲しい値の外側のIDやクラス名、要素名、属性名等から辿っていくより便利（な場合もある）"
   ]
  },
  {
   "cell_type": "code",
   "execution_count": 45,
   "id": "021561e7",
   "metadata": {},
   "outputs": [],
   "source": [
    "xpath = '/html/body/div[2]/div/div[3]/div[4]/dl[1]/dd[1]/span'"
   ]
  },
  {
   "cell_type": "code",
   "execution_count": 46,
   "id": "6c3ef285",
   "metadata": {},
   "outputs": [
    {
     "data": {
      "text/plain": [
       "'4.6'"
      ]
     },
     "execution_count": 46,
     "metadata": {},
     "output_type": "execute_result"
    }
   ],
   "source": [
    "browser.find_element(By.XPATH, xpath).text"
   ]
  },
  {
   "cell_type": "code",
   "execution_count": 49,
   "id": "4e664d47",
   "metadata": {},
   "outputs": [],
   "source": [
    "# classのような要素に紐づく属性は@で表す\n",
    "# フルパス指定のほか、途中までのパスを省略可能\n",
    "xpath = '//dd[@class=\"comment\"]' # この場合途中までのパスに関係なく、全ての<dd class=\"comment\">が対象になる"
   ]
  },
  {
   "cell_type": "code",
   "execution_count": 52,
   "id": "36493a83",
   "metadata": {},
   "outputs": [],
   "source": [
    "# 該当する要素が複数あればList形式で取得も可能\n",
    "elems_comment = browser.find_elements(By.XPATH, xpath)"
   ]
  },
  {
   "cell_type": "code",
   "execution_count": 54,
   "id": "5d02413d",
   "metadata": {},
   "outputs": [
    {
     "data": {
      "text/plain": [
       "['楽しくて帰りたくなかった',\n",
       " '非常に混んでいた',\n",
       " '海が非常に綺麗であった',\n",
       " '船で1時間ほどであった',\n",
       " 'また行きたいと思える場所でした！！',\n",
       " '非常に空いていた',\n",
       " '信じられないような絶景であった',\n",
       " '飛行機で1時間ほどで着きました',\n",
       " '一人旅には最適でした',\n",
       " '時間帯によって混雑具合は違った',\n",
       " '景色に魅了された',\n",
       " '船で2時間ほどであった',\n",
       " 'とてもエンジョイした',\n",
       " '空いていた',\n",
       " '大自然を感じることができた',\n",
       " '船で1時間ほどであった',\n",
       " 'また行きたいと思える場所でした！！',\n",
       " '空いていた',\n",
       " '自然の素晴らしさを味わった',\n",
       " '渋滞に巻き込まれて3時間以上かかった',\n",
       " '１日中飽きることなく遊び続けられた',\n",
       " '時間帯によって混雑具合は違った',\n",
       " '自然の素晴らしさを味わった',\n",
       " '交通の便が悪かった',\n",
       " '楽しくて帰りたくなかった',\n",
       " '非常に混んでいた',\n",
       " '時を忘れるような壮大さであった',\n",
       " '市内から車で2時間ほどであった',\n",
       " '非常に楽しい場所であった',\n",
       " 'お昼の時間はかなり混んでいた',\n",
       " '時を忘れるような壮大さであった',\n",
       " 'アクセスはあまり良くなかった',\n",
       " '非常に楽しい場所であった',\n",
       " 'お昼の時間はかなり混んでいた',\n",
       " '信じられないような絶景であった',\n",
       " 'アクセスはあまり良くなかった',\n",
       " 'THE非日常',\n",
       " 'まぁまぁ混んでいた',\n",
       " '目を疑う超絶景であった',\n",
       " '渋滞に巻き込まれて3時間以上かかった']"
      ]
     },
     "execution_count": 54,
     "metadata": {},
     "output_type": "execute_result"
    }
   ],
   "source": [
    "comments = []\n",
    "for elem_comment in elems_comment:\n",
    "    comments.append(elem_comment.text)\n",
    "comments"
   ]
  },
  {
   "cell_type": "code",
   "execution_count": 55,
   "id": "ffbfa04c",
   "metadata": {},
   "outputs": [],
   "source": [
    "# 指定する文字列が含まれている要素を一括取得: contains関数\n",
    "# テキスト中に指定の言葉を含む全てのdd要素を取得する\n",
    "xpath = \"//dd[contains(text(), '自然')]\""
   ]
  },
  {
   "cell_type": "code",
   "execution_count": 56,
   "id": "41090944",
   "metadata": {},
   "outputs": [],
   "source": [
    "elem_texts = browser.find_elements(By.XPATH, xpath)"
   ]
  },
  {
   "cell_type": "code",
   "execution_count": 57,
   "id": "c0b697e0",
   "metadata": {},
   "outputs": [
    {
     "data": {
      "text/plain": [
       "['大自然を感じることができた', '自然の素晴らしさを味わった', '自然の素晴らしさを味わった']"
      ]
     },
     "execution_count": 57,
     "metadata": {},
     "output_type": "execute_result"
    }
   ],
   "source": [
    "texts = []\n",
    "\n",
    "for elem_text in elem_texts:\n",
    "    texts.append(elem_text.text)\n",
    "texts"
   ]
  },
  {
   "cell_type": "code",
   "execution_count": 63,
   "id": "d4b0c119",
   "metadata": {},
   "outputs": [
    {
     "data": {
      "text/plain": [
       "['4.6',\n",
       " '楽しくて帰りたくなかった',\n",
       " '4.5',\n",
       " '非常に混んでいた',\n",
       " '4.9',\n",
       " '海が非常に綺麗であった',\n",
       " '4.2',\n",
       " '4.6',\n",
       " 'また行きたいと思える場所でした！！',\n",
       " '4.5',\n",
       " '非常に空いていた',\n",
       " '4.9',\n",
       " '信じられないような絶景であった',\n",
       " '4.2',\n",
       " '4.5',\n",
       " '一人旅には最適でした',\n",
       " '4.4',\n",
       " '4.8',\n",
       " '景色に魅了された',\n",
       " '4.1',\n",
       " '4.4',\n",
       " 'とてもエンジョイした',\n",
       " '4.4',\n",
       " '空いていた',\n",
       " '4.8',\n",
       " '4.0',\n",
       " '4.4',\n",
       " 'また行きたいと思える場所でした！！',\n",
       " '4.3',\n",
       " '空いていた',\n",
       " '4.7',\n",
       " '4.0',\n",
       " '4.3',\n",
       " '１日中飽きることなく遊び続けられた',\n",
       " '4.3',\n",
       " '4.7',\n",
       " '3.9',\n",
       " '交通の便が悪かった',\n",
       " '4.2',\n",
       " '楽しくて帰りたくなかった',\n",
       " '4.2',\n",
       " '非常に混んでいた',\n",
       " '4.6',\n",
       " '時を忘れるような壮大さであった',\n",
       " '3.8',\n",
       " '4.2',\n",
       " '非常に楽しい場所であった',\n",
       " '4.2',\n",
       " '4.6',\n",
       " '時を忘れるような壮大さであった',\n",
       " '3.8',\n",
       " 'アクセスはあまり良くなかった',\n",
       " '4.1',\n",
       " '非常に楽しい場所であった',\n",
       " '4.1',\n",
       " '4.5',\n",
       " '信じられないような絶景であった',\n",
       " '3.7',\n",
       " 'アクセスはあまり良くなかった',\n",
       " '4.0',\n",
       " 'THE非日常',\n",
       " '4.1',\n",
       " 'まぁまぁ混んでいた',\n",
       " '4.4',\n",
       " '目を疑う超絶景であった',\n",
       " '3.6']"
      ]
     },
     "execution_count": 63,
     "metadata": {},
     "output_type": "execute_result"
    }
   ],
   "source": [
    "# or, and, notとそれらの組み合わせ条件も使える\n",
    "# テキストに「自然」「時間」を含まないddタグを全て抽出\n",
    "xpath = \"//dd[not(contains(text(), '自然') or contains(text(), '時間'))]\"\n",
    "elem_texts = browser.find_elements(By.XPATH, xpath)\n",
    "texts = []\n",
    "\n",
    "for elem_text in elem_texts:\n",
    "    texts.append(elem_text.text)\n",
    "texts"
   ]
  },
  {
   "cell_type": "code",
   "execution_count": 64,
   "id": "1992598c",
   "metadata": {},
   "outputs": [
    {
     "data": {
      "text/plain": [
       "['楽しくて帰りたくなかった',\n",
       " '非常に混んでいた',\n",
       " '海が非常に綺麗であった',\n",
       " 'また行きたいと思える場所でした！！',\n",
       " '非常に空いていた',\n",
       " '信じられないような絶景であった',\n",
       " '一人旅には最適でした',\n",
       " '景色に魅了された',\n",
       " 'とてもエンジョイした',\n",
       " '空いていた',\n",
       " 'また行きたいと思える場所でした！！',\n",
       " '空いていた',\n",
       " '１日中飽きることなく遊び続けられた',\n",
       " '交通の便が悪かった',\n",
       " '楽しくて帰りたくなかった',\n",
       " '非常に混んでいた',\n",
       " '時を忘れるような壮大さであった',\n",
       " '非常に楽しい場所であった',\n",
       " '時を忘れるような壮大さであった',\n",
       " 'アクセスはあまり良くなかった',\n",
       " '非常に楽しい場所であった',\n",
       " '信じられないような絶景であった',\n",
       " 'アクセスはあまり良くなかった',\n",
       " 'THE非日常',\n",
       " 'まぁまぁ混んでいた',\n",
       " '目を疑う超絶景であった']"
      ]
     },
     "execution_count": 64,
     "metadata": {},
     "output_type": "execute_result"
    }
   ],
   "source": [
    "# 上記は同じく<dd>タグであり、「時間」「自然」を含まない「テキスト全て」なのでevaluateNumberの「数字テキスト」も抽出されている。\n",
    "# 指定の条件を満たす「コメント」だけに絞りたい場合は以下のようにする\n",
    "xpath = \"//dd[@class='comment' and not(contains(text(), '自然') or contains(text(), '時間'))]\"\n",
    "elem_texts = browser.find_elements(By.XPATH, xpath)\n",
    "texts = []\n",
    "\n",
    "for elem_text in elem_texts:\n",
    "    texts.append(elem_text.text)\n",
    "texts"
   ]
  },
  {
   "cell_type": "code",
   "execution_count": 70,
   "id": "bd46c68e",
   "metadata": {},
   "outputs": [
    {
     "data": {
      "text/plain": [
       "'ログイン'"
      ]
     },
     "execution_count": 70,
     "metadata": {},
     "output_type": "execute_result"
    }
   ],
   "source": [
    "# ちなみに、検証ツールからのCopy XPath時のdiv[3]などは並列要素（同階層）のn番目を表すdiv[position()=n]の省略形\n",
    "# * は並列して存在する兄弟要素の集合(//に続く起点が<ul id=\"nav-mobile\">なので、その子要素<li>全て)を表す\n",
    "xpath = '//*[@id=\"nav-mobile\"]/li[1]/a' # 画面上部のnavバーの最初のリンクである「ログイン」の場合(indexは0からでなく1から始まっている)\n",
    "browser.find_element(By.XPATH, xpath).text"
   ]
  }
 ],
 "metadata": {
  "kernelspec": {
   "display_name": "Python 3 (ipykernel)",
   "language": "python",
   "name": "python3"
  },
  "language_info": {
   "codemirror_mode": {
    "name": "ipython",
    "version": 3
   },
   "file_extension": ".py",
   "mimetype": "text/x-python",
   "name": "python",
   "nbconvert_exporter": "python",
   "pygments_lexer": "ipython3",
   "version": "3.11.4"
  }
 },
 "nbformat": 4,
 "nbformat_minor": 5
}
