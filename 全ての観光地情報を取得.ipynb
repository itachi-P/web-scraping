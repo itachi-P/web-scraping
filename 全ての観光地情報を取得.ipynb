{
 "cells": [
  {
   "cell_type": "markdown",
   "id": "d81b30b2",
   "metadata": {},
   "source": [
    "# 全ての観光地情報を取得"
   ]
  },
  {
   "cell_type": "code",
   "execution_count": 1,
   "id": "ad140657",
   "metadata": {},
   "outputs": [],
   "source": [
    "from selenium import webdriver\n",
    "browser = webdriver.Chrome()\n",
    "browser.get('https://scraping-for-beginner.herokuapp.com/ranking/')"
   ]
  },
  {
   "cell_type": "code",
   "execution_count": 5,
   "id": "d4cc167a",
   "metadata": {},
   "outputs": [],
   "source": [
    "from selenium.webdriver.common.by import By"
   ]
  },
  {
   "cell_type": "markdown",
   "id": "5d526d12",
   "metadata": {},
   "source": [
    "## 観光地名一覧"
   ]
  },
  {
   "cell_type": "code",
   "execution_count": 6,
   "id": "7fca7082",
   "metadata": {},
   "outputs": [],
   "source": [
    "elems_rankingBox = browser.find_elements(By.CLASS_NAME, 'u_areaListRankingBox')"
   ]
  },
  {
   "cell_type": "code",
   "execution_count": 7,
   "id": "cd85daac",
   "metadata": {},
   "outputs": [
    {
     "data": {
      "text/plain": [
       "10"
      ]
     },
     "execution_count": 7,
     "metadata": {},
     "output_type": "execute_result"
    }
   ],
   "source": [
    "len(elems_rankingBox)"
   ]
  },
  {
   "cell_type": "code",
   "execution_count": 8,
   "id": "4446f23e",
   "metadata": {},
   "outputs": [],
   "source": [
    "# 全ての観光地名を格納するリスト titlesを用意\n",
    "titles = []\n",
    "\n",
    "for elem_rankingBox in elems_rankingBox:\n",
    "    elem_title = elem_rankingBox.find_element(By.CLASS_NAME, 'u_title')\n",
    "    title = elem_title.text.split('\\n')[1]\n",
    "    titles.append(title)"
   ]
  },
  {
   "cell_type": "code",
   "execution_count": 9,
   "id": "77e9d4e3",
   "metadata": {},
   "outputs": [
    {
     "data": {
      "text/plain": [
       "['観光地 1',\n",
       " '観光地 2',\n",
       " '観光地 3',\n",
       " '観光地 4',\n",
       " '観光地 5',\n",
       " '観光地 6',\n",
       " '観光地 7',\n",
       " '観光地 8',\n",
       " '観光地 9',\n",
       " '観光地 10']"
      ]
     },
     "execution_count": 9,
     "metadata": {},
     "output_type": "execute_result"
    }
   ],
   "source": [
    "titles"
   ]
  },
  {
   "cell_type": "markdown",
   "id": "3b8123f2",
   "metadata": {},
   "source": [
    "## 総合評価一覧"
   ]
  },
  {
   "cell_type": "code",
   "execution_count": 10,
   "id": "99c65fc2",
   "metadata": {},
   "outputs": [],
   "source": [
    "# やり方１\n",
    "# totalEvaluates = []\n",
    "\n",
    "# for elem_rankingBox in elems_rankingBox:\n",
    "#     elem_evaluate = elem_rankingBox.find_element(By.CLASS_NAME, 'u_rankBox').find_element(By.CLASS_NAME, 'evaluateNumber')\n",
    "#     totalEvaluates.append(elem_evaluate.text)\n",
    "# totalEvaluates"
   ]
  },
  {
   "cell_type": "code",
   "execution_count": 11,
   "id": "29ae6761",
   "metadata": {},
   "outputs": [
    {
     "data": {
      "text/plain": [
       "10"
      ]
     },
     "execution_count": 11,
     "metadata": {},
     "output_type": "execute_result"
    }
   ],
   "source": [
    "# やり方2(手順を確認しながらfor文にしていくステップ方式)\n",
    "elems_rank = browser.find_elements(By.CLASS_NAME, 'u_rankBox')\n",
    "len(elems_rank)"
   ]
  },
  {
   "cell_type": "code",
   "execution_count": 12,
   "id": "6c1f948a",
   "metadata": {},
   "outputs": [
    {
     "data": {
      "text/plain": [
       "'4.7'"
      ]
     },
     "execution_count": 12,
     "metadata": {},
     "output_type": "execute_result"
    }
   ],
   "source": [
    "elems_rank[0].find_element(By.CLASS_NAME, 'evaluateNumber').text"
   ]
  },
  {
   "cell_type": "code",
   "execution_count": 13,
   "id": "454a9d78",
   "metadata": {},
   "outputs": [],
   "source": [
    "elems_rank = browser.find_elements(By.CLASS_NAME, 'u_rankBox')\n",
    "\n",
    "ranks = []\n",
    "for elem_rank in elems_rank:\n",
    "    elem_rank = elem_rank.find_element(By.CLASS_NAME, 'evaluateNumber')\n",
    "    rank = float(elem_rank.text) # Webスクレイピングで取ってきた数値は基本的に文字列になっている\n",
    "    ranks.append(rank)"
   ]
  },
  {
   "cell_type": "code",
   "execution_count": 14,
   "id": "93b46c76",
   "metadata": {},
   "outputs": [
    {
     "data": {
      "text/plain": [
       "[4.7, 4.7, 4.6, 4.5, 4.5, 4.4, 4.3, 4.3, 4.2, 4.1]"
      ]
     },
     "execution_count": 14,
     "metadata": {},
     "output_type": "execute_result"
    }
   ],
   "source": [
    "ranks"
   ]
  },
  {
   "cell_type": "markdown",
   "id": "d2f93c5e",
   "metadata": {},
   "source": [
    "## 各カテゴリ評価一覧\n",
    "### リストのリスト(二次元の入れ子構造)にする"
   ]
  },
  {
   "cell_type": "code",
   "execution_count": 15,
   "id": "260ce4a4",
   "metadata": {},
   "outputs": [
    {
     "data": {
      "text/plain": [
       "10"
      ]
     },
     "execution_count": 15,
     "metadata": {},
     "output_type": "execute_result"
    }
   ],
   "source": [
    "elems = browser.find_elements(By.CLASS_NAME, 'u_categoryTipsItem')\n",
    "len(elems)"
   ]
  },
  {
   "cell_type": "code",
   "execution_count": 16,
   "id": "18ebdebe",
   "metadata": {},
   "outputs": [],
   "source": [
    "elem = elems[0]\n",
    "elems_rank = elem.find_elements(By.CLASS_NAME, 'is_rank')"
   ]
  },
  {
   "cell_type": "code",
   "execution_count": 17,
   "id": "822e1e6d",
   "metadata": {},
   "outputs": [
    {
     "data": {
      "text/plain": [
       "4"
      ]
     },
     "execution_count": 17,
     "metadata": {},
     "output_type": "execute_result"
    }
   ],
   "source": [
    "len(elems_rank)"
   ]
  },
  {
   "cell_type": "code",
   "execution_count": 18,
   "id": "d91e9628",
   "metadata": {},
   "outputs": [],
   "source": [
    "# 二重にネストしたループを回してカテゴリ別評価数を格納する\n",
    "categories = []\n",
    "\n",
    "for elem in elems:\n",
    "    elems_rank = elem.find_elements(By.CLASS_NAME, 'is_rank')\n",
    "\n",
    "    _ranks = [] # 一時的な保存用\n",
    "\n",
    "    for elem_rank in elems_rank:\n",
    "        rank = elem_rank.find_element(By.CLASS_NAME, 'evaluateNumber').text\n",
    "        _ranks.append(float(rank))\n",
    "        \n",
    "    categories.append(_ranks)"
   ]
  },
  {
   "cell_type": "code",
   "execution_count": 89,
   "id": "0411c3ca",
   "metadata": {},
   "outputs": [
    {
     "data": {
      "text/plain": [
       "[[4.6, 4.5, 4.9, 4.2],\n",
       " [4.6, 4.5, 4.9, 4.2],\n",
       " [4.5, 4.4, 4.8, 4.1],\n",
       " [4.4, 4.4, 4.8, 4.0],\n",
       " [4.4, 4.3, 4.7, 4.0],\n",
       " [4.3, 4.3, 4.7, 3.9],\n",
       " [4.2, 4.2, 4.6, 3.8],\n",
       " [4.2, 4.2, 4.6, 3.8],\n",
       " [4.1, 4.1, 4.5, 3.7],\n",
       " [4.0, 4.1, 4.4, 3.6]]"
      ]
     },
     "execution_count": 89,
     "metadata": {},
     "output_type": "execute_result"
    }
   ],
   "source": [
    "categories"
   ]
  },
  {
   "cell_type": "markdown",
   "id": "663999b3",
   "metadata": {},
   "source": [
    "### Pandasの形式に変換"
   ]
  },
  {
   "cell_type": "code",
   "execution_count": 90,
   "id": "f3a6109a",
   "metadata": {},
   "outputs": [],
   "source": [
    "import pandas as pd"
   ]
  },
  {
   "cell_type": "code",
   "execution_count": 91,
   "id": "2e2034a6",
   "metadata": {},
   "outputs": [],
   "source": [
    "df = pd.DataFrame()"
   ]
  },
  {
   "cell_type": "code",
   "execution_count": 92,
   "id": "e6c801b2",
   "metadata": {},
   "outputs": [],
   "source": [
    "df['観光地名'] = titles\n",
    "df['総合評価'] = ranks"
   ]
  },
  {
   "cell_type": "code",
   "execution_count": 93,
   "id": "4cfe8a50",
   "metadata": {},
   "outputs": [
    {
     "data": {
      "text/html": [
       "<div>\n",
       "<style scoped>\n",
       "    .dataframe tbody tr th:only-of-type {\n",
       "        vertical-align: middle;\n",
       "    }\n",
       "\n",
       "    .dataframe tbody tr th {\n",
       "        vertical-align: top;\n",
       "    }\n",
       "\n",
       "    .dataframe thead th {\n",
       "        text-align: right;\n",
       "    }\n",
       "</style>\n",
       "<table border=\"1\" class=\"dataframe\">\n",
       "  <thead>\n",
       "    <tr style=\"text-align: right;\">\n",
       "      <th></th>\n",
       "      <th>観光地名</th>\n",
       "      <th>総合評価</th>\n",
       "    </tr>\n",
       "  </thead>\n",
       "  <tbody>\n",
       "    <tr>\n",
       "      <th>0</th>\n",
       "      <td>観光地 1</td>\n",
       "      <td>4.7</td>\n",
       "    </tr>\n",
       "    <tr>\n",
       "      <th>1</th>\n",
       "      <td>観光地 2</td>\n",
       "      <td>4.7</td>\n",
       "    </tr>\n",
       "    <tr>\n",
       "      <th>2</th>\n",
       "      <td>観光地 3</td>\n",
       "      <td>4.6</td>\n",
       "    </tr>\n",
       "    <tr>\n",
       "      <th>3</th>\n",
       "      <td>観光地 4</td>\n",
       "      <td>4.5</td>\n",
       "    </tr>\n",
       "    <tr>\n",
       "      <th>4</th>\n",
       "      <td>観光地 5</td>\n",
       "      <td>4.5</td>\n",
       "    </tr>\n",
       "    <tr>\n",
       "      <th>5</th>\n",
       "      <td>観光地 6</td>\n",
       "      <td>4.4</td>\n",
       "    </tr>\n",
       "    <tr>\n",
       "      <th>6</th>\n",
       "      <td>観光地 7</td>\n",
       "      <td>4.3</td>\n",
       "    </tr>\n",
       "    <tr>\n",
       "      <th>7</th>\n",
       "      <td>観光地 8</td>\n",
       "      <td>4.3</td>\n",
       "    </tr>\n",
       "    <tr>\n",
       "      <th>8</th>\n",
       "      <td>観光地 9</td>\n",
       "      <td>4.2</td>\n",
       "    </tr>\n",
       "    <tr>\n",
       "      <th>9</th>\n",
       "      <td>観光地 10</td>\n",
       "      <td>4.1</td>\n",
       "    </tr>\n",
       "  </tbody>\n",
       "</table>\n",
       "</div>"
      ],
      "text/plain": [
       "     観光地名  総合評価\n",
       "0   観光地 1   4.7\n",
       "1   観光地 2   4.7\n",
       "2   観光地 3   4.6\n",
       "3   観光地 4   4.5\n",
       "4   観光地 5   4.5\n",
       "5   観光地 6   4.4\n",
       "6   観光地 7   4.3\n",
       "7   観光地 8   4.3\n",
       "8   観光地 9   4.2\n",
       "9  観光地 10   4.1"
      ]
     },
     "execution_count": 93,
     "metadata": {},
     "output_type": "execute_result"
    }
   ],
   "source": [
    "df"
   ]
  },
  {
   "cell_type": "code",
   "execution_count": 94,
   "id": "0c927554",
   "metadata": {},
   "outputs": [
    {
     "data": {
      "text/html": [
       "<div>\n",
       "<style scoped>\n",
       "    .dataframe tbody tr th:only-of-type {\n",
       "        vertical-align: middle;\n",
       "    }\n",
       "\n",
       "    .dataframe tbody tr th {\n",
       "        vertical-align: top;\n",
       "    }\n",
       "\n",
       "    .dataframe thead th {\n",
       "        text-align: right;\n",
       "    }\n",
       "</style>\n",
       "<table border=\"1\" class=\"dataframe\">\n",
       "  <thead>\n",
       "    <tr style=\"text-align: right;\">\n",
       "      <th></th>\n",
       "      <th>楽しさ</th>\n",
       "      <th>人混みの多さ</th>\n",
       "      <th>景色</th>\n",
       "      <th>アクセス</th>\n",
       "    </tr>\n",
       "  </thead>\n",
       "  <tbody>\n",
       "    <tr>\n",
       "      <th>0</th>\n",
       "      <td>4.6</td>\n",
       "      <td>4.5</td>\n",
       "      <td>4.9</td>\n",
       "      <td>4.2</td>\n",
       "    </tr>\n",
       "    <tr>\n",
       "      <th>1</th>\n",
       "      <td>4.6</td>\n",
       "      <td>4.5</td>\n",
       "      <td>4.9</td>\n",
       "      <td>4.2</td>\n",
       "    </tr>\n",
       "    <tr>\n",
       "      <th>2</th>\n",
       "      <td>4.5</td>\n",
       "      <td>4.4</td>\n",
       "      <td>4.8</td>\n",
       "      <td>4.1</td>\n",
       "    </tr>\n",
       "    <tr>\n",
       "      <th>3</th>\n",
       "      <td>4.4</td>\n",
       "      <td>4.4</td>\n",
       "      <td>4.8</td>\n",
       "      <td>4.0</td>\n",
       "    </tr>\n",
       "    <tr>\n",
       "      <th>4</th>\n",
       "      <td>4.4</td>\n",
       "      <td>4.3</td>\n",
       "      <td>4.7</td>\n",
       "      <td>4.0</td>\n",
       "    </tr>\n",
       "    <tr>\n",
       "      <th>5</th>\n",
       "      <td>4.3</td>\n",
       "      <td>4.3</td>\n",
       "      <td>4.7</td>\n",
       "      <td>3.9</td>\n",
       "    </tr>\n",
       "    <tr>\n",
       "      <th>6</th>\n",
       "      <td>4.2</td>\n",
       "      <td>4.2</td>\n",
       "      <td>4.6</td>\n",
       "      <td>3.8</td>\n",
       "    </tr>\n",
       "    <tr>\n",
       "      <th>7</th>\n",
       "      <td>4.2</td>\n",
       "      <td>4.2</td>\n",
       "      <td>4.6</td>\n",
       "      <td>3.8</td>\n",
       "    </tr>\n",
       "    <tr>\n",
       "      <th>8</th>\n",
       "      <td>4.1</td>\n",
       "      <td>4.1</td>\n",
       "      <td>4.5</td>\n",
       "      <td>3.7</td>\n",
       "    </tr>\n",
       "    <tr>\n",
       "      <th>9</th>\n",
       "      <td>4.0</td>\n",
       "      <td>4.1</td>\n",
       "      <td>4.4</td>\n",
       "      <td>3.6</td>\n",
       "    </tr>\n",
       "  </tbody>\n",
       "</table>\n",
       "</div>"
      ],
      "text/plain": [
       "   楽しさ  人混みの多さ   景色  アクセス\n",
       "0  4.6     4.5  4.9   4.2\n",
       "1  4.6     4.5  4.9   4.2\n",
       "2  4.5     4.4  4.8   4.1\n",
       "3  4.4     4.4  4.8   4.0\n",
       "4  4.4     4.3  4.7   4.0\n",
       "5  4.3     4.3  4.7   3.9\n",
       "6  4.2     4.2  4.6   3.8\n",
       "7  4.2     4.2  4.6   3.8\n",
       "8  4.1     4.1  4.5   3.7\n",
       "9  4.0     4.1  4.4   3.6"
      ]
     },
     "execution_count": 94,
     "metadata": {},
     "output_type": "execute_result"
    }
   ],
   "source": [
    "# 一旦カテゴリ別評価だけ別枠で作る\n",
    "df_categories = pd.DataFrame(categories)\n",
    "# 列の名前を自動で付く0, 1, 2, 3から変更する\n",
    "df_categories.columns = ['楽しさ', '人混みの多さ', '景色', 'アクセス']\n",
    "df_categories.rows = ['壱', '弐', '参', '']\n",
    "df_categories"
   ]
  },
  {
   "cell_type": "code",
   "execution_count": null,
   "id": "6bdeabc0",
   "metadata": {},
   "outputs": [],
   "source": [
    "# ２つの表を横並びで連結する\n",
    "pd.concat([df, df_categories])"
   ]
  },
  {
   "cell_type": "code",
   "execution_count": null,
   "id": "a7b5605f",
   "metadata": {},
   "outputs": [],
   "source": []
  }
 ],
 "metadata": {
  "kernelspec": {
   "display_name": "Python 3 (ipykernel)",
   "language": "python",
   "name": "python3"
  },
  "language_info": {
   "codemirror_mode": {
    "name": "ipython",
    "version": 3
   },
   "file_extension": ".py",
   "mimetype": "text/x-python",
   "name": "python",
   "nbconvert_exporter": "python",
   "pygments_lexer": "ipython3",
   "version": "3.11.4"
  }
 },
 "nbformat": 4,
 "nbformat_minor": 5
}
