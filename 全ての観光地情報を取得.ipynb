{
 "cells": [
  {
   "cell_type": "markdown",
   "id": "d81b30b2",
   "metadata": {},
   "source": [
    "# 全ての観光地情報を取得"
   ]
  },
  {
   "cell_type": "code",
   "execution_count": null,
   "id": "ad140657",
   "metadata": {},
   "outputs": [],
   "source": [
    "from selenium import webdriver\n",
    "browser = webdriver.Chrome()\n",
    "browser.get('https://scraping-for-beginner.herokuapp.com/ranking/')"
   ]
  },
  {
   "cell_type": "code",
   "execution_count": 3,
   "id": "d4cc167a",
   "metadata": {},
   "outputs": [],
   "source": [
    "from selenium.webdriver.common.by import By"
   ]
  },
  {
   "cell_type": "markdown",
   "id": "5d526d12",
   "metadata": {},
   "source": [
    "## 観光地名一覧"
   ]
  },
  {
   "cell_type": "code",
   "execution_count": 7,
   "id": "7fca7082",
   "metadata": {},
   "outputs": [],
   "source": [
    "elems_rankingBox = browser.find_elements(By.CLASS_NAME, 'u_areaListRankingBox')"
   ]
  },
  {
   "cell_type": "code",
   "execution_count": 20,
   "id": "cd85daac",
   "metadata": {},
   "outputs": [
    {
     "data": {
      "text/plain": [
       "10"
      ]
     },
     "execution_count": 20,
     "metadata": {},
     "output_type": "execute_result"
    }
   ],
   "source": [
    "len(elems_rankingBox)"
   ]
  },
  {
   "cell_type": "code",
   "execution_count": 24,
   "id": "4446f23e",
   "metadata": {},
   "outputs": [],
   "source": [
    "# 全ての観光地名を格納するリスト titlesを用意\n",
    "titles = []\n",
    "\n",
    "for elem_rankingBox in elems_rankingBox:\n",
    "    elem_title = elem_rankingBox.find_element(By.CLASS_NAME, 'u_title')\n",
    "    title = elem_title.text.split('\\n')[1]\n",
    "    titles.append(title)"
   ]
  },
  {
   "cell_type": "code",
   "execution_count": 25,
   "id": "77e9d4e3",
   "metadata": {},
   "outputs": [
    {
     "data": {
      "text/plain": [
       "['観光地 1',\n",
       " '観光地 2',\n",
       " '観光地 3',\n",
       " '観光地 4',\n",
       " '観光地 5',\n",
       " '観光地 6',\n",
       " '観光地 7',\n",
       " '観光地 8',\n",
       " '観光地 9',\n",
       " '観光地 10']"
      ]
     },
     "execution_count": 25,
     "metadata": {},
     "output_type": "execute_result"
    }
   ],
   "source": [
    "titles"
   ]
  },
  {
   "cell_type": "markdown",
   "id": "3b8123f2",
   "metadata": {},
   "source": [
    "## 総合評価一覧"
   ]
  },
  {
   "cell_type": "code",
   "execution_count": 53,
   "id": "99c65fc2",
   "metadata": {},
   "outputs": [
    {
     "data": {
      "text/plain": [
       "['4.7', '4.7', '4.6', '4.5', '4.5', '4.4', '4.3', '4.3', '4.2', '4.1']"
      ]
     },
     "execution_count": 53,
     "metadata": {},
     "output_type": "execute_result"
    }
   ],
   "source": [
    "# やり方１\n",
    "totalEvaluates = []\n",
    "\n",
    "for elem_rankingBox in elems_rankingBox:\n",
    "    elem_evaluate = elem_rankingBox.find_element(By.CLASS_NAME, 'u_rankBox').find_element(By.CLASS_NAME, 'evaluateNumber')\n",
    "    totalEvaluates.append(elem_evaluate.text)\n",
    "totalEvaluates"
   ]
  },
  {
   "cell_type": "code",
   "execution_count": 51,
   "id": "29ae6761",
   "metadata": {},
   "outputs": [
    {
     "data": {
      "text/plain": [
       "10"
      ]
     },
     "execution_count": 51,
     "metadata": {},
     "output_type": "execute_result"
    }
   ],
   "source": [
    "# やり方2(手順を確認しながらfor文にしていくステップ方式)\n",
    "elems_rank = browser.find_elements(By.CLASS_NAME, 'u_rankBox')\n",
    "len(elems_rank)"
   ]
  },
  {
   "cell_type": "code",
   "execution_count": 55,
   "id": "6c1f948a",
   "metadata": {},
   "outputs": [
    {
     "data": {
      "text/plain": [
       "'4.7'"
      ]
     },
     "execution_count": 55,
     "metadata": {},
     "output_type": "execute_result"
    }
   ],
   "source": [
    "elems_rank[0].find_element(By.CLASS_NAME, 'evaluateNumber').text"
   ]
  },
  {
   "cell_type": "code",
   "execution_count": 58,
   "id": "454a9d78",
   "metadata": {},
   "outputs": [],
   "source": [
    "elems_rank = browser.find_elements(By.CLASS_NAME, 'u_rankBox')\n",
    "\n",
    "ranks = []\n",
    "for elem_rank in elems_rank:\n",
    "    elem_rank = elem_rank.find_element(By.CLASS_NAME, 'evaluateNumber')\n",
    "    rank = float(elem_rank.text) # Webスクレイピングで取ってきた数値は基本的に文字列になっている\n",
    "    ranks.append(rank)"
   ]
  },
  {
   "cell_type": "code",
   "execution_count": 59,
   "id": "93b46c76",
   "metadata": {},
   "outputs": [
    {
     "data": {
      "text/plain": [
       "[4.7, 4.7, 4.6, 4.5, 4.5, 4.4, 4.3, 4.3, 4.2, 4.1]"
      ]
     },
     "execution_count": 59,
     "metadata": {},
     "output_type": "execute_result"
    }
   ],
   "source": [
    "ranks"
   ]
  },
  {
   "cell_type": "markdown",
   "id": "d2f93c5e",
   "metadata": {},
   "source": [
    "## 各カテゴリ評価一覧\n",
    "### リストのリスト(二次元の入れ子構造)にする"
   ]
  },
  {
   "cell_type": "code",
   "execution_count": 75,
   "id": "260ce4a4",
   "metadata": {},
   "outputs": [
    {
     "data": {
      "text/plain": [
       "10"
      ]
     },
     "execution_count": 75,
     "metadata": {},
     "output_type": "execute_result"
    }
   ],
   "source": [
    "elems = browser.find_elements(By.CLASS_NAME, 'u_categoryTipsItem')\n",
    "len(elems)"
   ]
  },
  {
   "cell_type": "code",
   "execution_count": 76,
   "id": "18ebdebe",
   "metadata": {},
   "outputs": [],
   "source": [
    "elem = elems[0]\n",
    "elems_rank = elem.find_elements(By.CLASS_NAME, 'is_rank')"
   ]
  },
  {
   "cell_type": "code",
   "execution_count": 77,
   "id": "822e1e6d",
   "metadata": {},
   "outputs": [
    {
     "data": {
      "text/plain": [
       "4"
      ]
     },
     "execution_count": 77,
     "metadata": {},
     "output_type": "execute_result"
    }
   ],
   "source": [
    "len(elems_rank)"
   ]
  },
  {
   "cell_type": "code",
   "execution_count": 86,
   "id": "d91e9628",
   "metadata": {},
   "outputs": [],
   "source": [
    "# 二重にネストしたループを回してカテゴリ別評価数を格納する\n",
    "categories = []\n",
    "\n",
    "for elem in elems:\n",
    "    elems_rank = elem.find_elements(By.CLASS_NAME, 'is_rank')\n",
    "\n",
    "    _ranks = [] # 一時的な保存用\n",
    "\n",
    "    for elem_rank in elems_rank:\n",
    "        rank = elem_rank.find_element(By.CLASS_NAME, 'evaluateNumber').text\n",
    "        _ranks.append(float(rank))\n",
    "        \n",
    "    categories.append(_ranks)"
   ]
  },
  {
   "cell_type": "code",
   "execution_count": 87,
   "id": "0411c3ca",
   "metadata": {},
   "outputs": [
    {
     "data": {
      "text/plain": [
       "[[4.6, 4.5, 4.9, 4.2],\n",
       " [4.6, 4.5, 4.9, 4.2],\n",
       " [4.5, 4.4, 4.8, 4.1],\n",
       " [4.4, 4.4, 4.8, 4.0],\n",
       " [4.4, 4.3, 4.7, 4.0],\n",
       " [4.3, 4.3, 4.7, 3.9],\n",
       " [4.2, 4.2, 4.6, 3.8],\n",
       " [4.2, 4.2, 4.6, 3.8],\n",
       " [4.1, 4.1, 4.5, 3.7],\n",
       " [4.0, 4.1, 4.4, 3.6]]"
      ]
     },
     "execution_count": 87,
     "metadata": {},
     "output_type": "execute_result"
    }
   ],
   "source": [
    "categories"
   ]
  },
  {
   "cell_type": "markdown",
   "id": "663999b3",
   "metadata": {},
   "source": [
    "### Pandasの形式に変換"
   ]
  },
  {
   "cell_type": "code",
   "execution_count": null,
   "id": "f3a6109a",
   "metadata": {},
   "outputs": [],
   "source": []
  }
 ],
 "metadata": {
  "kernelspec": {
   "display_name": "Python 3 (ipykernel)",
   "language": "python",
   "name": "python3"
  },
  "language_info": {
   "codemirror_mode": {
    "name": "ipython",
    "version": 3
   },
   "file_extension": ".py",
   "mimetype": "text/x-python",
   "name": "python",
   "nbconvert_exporter": "python",
   "pygments_lexer": "ipython3",
   "version": "3.11.4"
  }
 },
 "nbformat": 4,
 "nbformat_minor": 5
}
