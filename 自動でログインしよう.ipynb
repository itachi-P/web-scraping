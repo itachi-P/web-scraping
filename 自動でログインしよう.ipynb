{
 "cells": [
  {
   "cell_type": "code",
   "execution_count": null,
   "id": "d51a5c9e",
   "metadata": {},
   "outputs": [],
   "source": [
    "from selenium import webdriver"
   ]
  },
  {
   "cell_type": "code",
   "execution_count": 2,
   "id": "88285a12",
   "metadata": {},
   "outputs": [],
   "source": [
    "browser = webdriver.Chrome()"
   ]
  },
  {
   "cell_type": "code",
   "execution_count": 3,
   "id": "a6830130",
   "metadata": {},
   "outputs": [],
   "source": [
    "browser.get('https://scraping-for-beginner.herokuapp.com/login_page')"
   ]
  },
  {
   "cell_type": "code",
   "execution_count": 4,
   "id": "3cad3bd2",
   "metadata": {},
   "outputs": [],
   "source": [
    "#ブラウザを閉じる（必要性は無いが、動作テストの一環として）\n",
    "browser.quit()"
   ]
  },
  {
   "cell_type": "code",
   "execution_count": 5,
   "id": "4f666dfa",
   "metadata": {},
   "outputs": [],
   "source": [
    "browser = webdriver.Chrome()\n",
    "browser.get('https://scraping-for-beginner.herokuapp.com/login_page')"
   ]
  },
  {
   "cell_type": "code",
   "execution_count": 6,
   "id": "384511fe",
   "metadata": {},
   "outputs": [],
   "source": [
    "#HTMLのid属性からフォーム要素をコントロールする準備（Selenium ver4以降 find_element_by_xxは非推奨)\n",
    "from selenium.webdriver.common.by import By"
   ]
  },
  {
   "cell_type": "code",
   "execution_count": 7,
   "id": "abb6e6b0",
   "metadata": {},
   "outputs": [],
   "source": [
    "#ユーザー名の場所を取得する\n",
    "elem_username = browser.find_element(By.ID, 'username')"
   ]
  },
  {
   "cell_type": "code",
   "execution_count": 8,
   "id": "5812ed39",
   "metadata": {},
   "outputs": [
    {
     "data": {
      "text/plain": [
       "<selenium.webdriver.remote.webelement.WebElement (session=\"a2e20f07d8de0263fc5ef4751f1f4825\", element=\"2D94768D158AE22102492CE6EC1C3FAF_element_5\")>"
      ]
     },
     "execution_count": 8,
     "metadata": {},
     "output_type": "execute_result"
    }
   ],
   "source": [
    "elem_username"
   ]
  },
  {
   "cell_type": "code",
   "execution_count": 9,
   "id": "bcc35e23",
   "metadata": {},
   "outputs": [],
   "source": [
    "#ユーザー名を打ち込む\n",
    "elem_username.send_keys('imanishi')"
   ]
  },
  {
   "cell_type": "code",
   "execution_count": 10,
   "id": "b3aca55e",
   "metadata": {},
   "outputs": [],
   "source": [
    "#パスワードも同様に取得・入力\n",
    "elem_password = browser.find_element(By.ID, 'password')"
   ]
  },
  {
   "cell_type": "code",
   "execution_count": 11,
   "id": "27e9afa7",
   "metadata": {},
   "outputs": [
    {
     "data": {
      "text/plain": [
       "<selenium.webdriver.remote.webelement.WebElement (session=\"a2e20f07d8de0263fc5ef4751f1f4825\", element=\"2D94768D158AE22102492CE6EC1C3FAF_element_4\")>"
      ]
     },
     "execution_count": 11,
     "metadata": {},
     "output_type": "execute_result"
    }
   ],
   "source": [
    "elem_password"
   ]
  },
  {
   "cell_type": "code",
   "execution_count": 12,
   "id": "0ec04156",
   "metadata": {},
   "outputs": [],
   "source": [
    "elem_password.send_keys('kohei')"
   ]
  },
  {
   "cell_type": "code",
   "execution_count": 13,
   "id": "0b6e5f1c",
   "metadata": {},
   "outputs": [],
   "source": [
    "#最後にログインボタンを押す\n",
    "elem_login_btn = browser.find_element(By.ID, 'login-btn')\n",
    "#ボタンをクリックする\n",
    "elem_login_btn.click()"
   ]
  },
  {
   "cell_type": "code",
   "execution_count": null,
   "id": "04166200",
   "metadata": {},
   "outputs": [],
   "source": []
  }
 ],
 "metadata": {
  "kernelspec": {
   "display_name": "Python 3 (ipykernel)",
   "language": "python",
   "name": "python3"
  },
  "language_info": {
   "codemirror_mode": {
    "name": "ipython",
    "version": 3
   },
   "file_extension": ".py",
   "mimetype": "text/x-python",
   "name": "python",
   "nbconvert_exporter": "python",
   "pygments_lexer": "ipython3",
   "version": "3.11.4"
  }
 },
 "nbformat": 4,
 "nbformat_minor": 5
}
