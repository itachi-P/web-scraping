{
 "cells": [
  {
   "cell_type": "code",
   "execution_count": 1,
   "id": "25f67969",
   "metadata": {},
   "outputs": [],
   "source": [
    "from selenium import webdriver\n",
    "browser = webdriver.Chrome()\n",
    "browser.get('https://scraping-for-beginner.herokuapp.com/ranking/')"
   ]
  },
  {
   "cell_type": "markdown",
   "id": "64f901ad",
   "metadata": {},
   "source": [
    "## まずは単一の観光地情報を取得\n",
    "### 観光地名を取得"
   ]
  },
  {
   "cell_type": "code",
   "execution_count": 4,
   "id": "bdc7d74c",
   "metadata": {},
   "outputs": [],
   "source": [
    "from selenium.webdriver.common.by import By"
   ]
  },
  {
   "cell_type": "code",
   "execution_count": 6,
   "id": "a5994ed1",
   "metadata": {},
   "outputs": [],
   "source": [
    "# <h2>ではなく、１つ以上外の要素の一意な名前に特定する\n",
    "elem_rankingBox = browser.find_element(By.CLASS_NAME, 'u_areaListRankingBox')"
   ]
  },
  {
   "cell_type": "code",
   "execution_count": 8,
   "id": "f8a756c8",
   "metadata": {},
   "outputs": [
    {
     "data": {
      "text/plain": [
       "'1\\n観光地 1\\n4.7\\n楽しさ\\n4.6\\nTHE非日常\\n人混みの多さ\\n4.5\\n空いていた\\n景色\\n4.9\\n自然の素晴らしさを味わった\\nアクセス\\n4.2\\nアクセスはあまり良くなかった'"
      ]
     },
     "execution_count": 8,
     "metadata": {},
     "output_type": "execute_result"
    }
   ],
   "source": [
    "elem_rankingBox.text"
   ]
  },
  {
   "cell_type": "code",
   "execution_count": 15,
   "id": "09f4d529",
   "metadata": {},
   "outputs": [
    {
     "data": {
      "text/plain": [
       "'1\\n観光地 1'"
      ]
     },
     "execution_count": 15,
     "metadata": {},
     "output_type": "execute_result"
    }
   ],
   "source": [
    "elem_title = elem_rankingBox.find_element(By.CLASS_NAME, 'u_title')\n",
    "# elem_title = elem_rankingBox.find_element(By.CLASS_NAME, 'u_title').find_element(By.TAG_NAME, 'h2') でも取得可能\n",
    "elem_title.text"
   ]
  },
  {
   "cell_type": "code",
   "execution_count": 14,
   "id": "66f811d4",
   "metadata": {},
   "outputs": [
    {
     "data": {
      "text/plain": [
       "'観光地 1'"
      ]
     },
     "execution_count": 14,
     "metadata": {},
     "output_type": "execute_result"
    }
   ],
   "source": [
    "title = elem_title.text\n",
    "title.split('\\n')[1]"
   ]
  },
  {
   "cell_type": "code",
   "execution_count": 25,
   "id": "04f9e3a1",
   "metadata": {},
   "outputs": [
    {
     "data": {
      "text/plain": [
       "'4.7'"
      ]
     },
     "execution_count": 25,
     "metadata": {},
     "output_type": "execute_result"
    }
   ],
   "source": [
    "# 総合評価の取得\n",
    "elem = elem_rankingBox.find_element(By.CLASS_NAME, 'u_rankBox')\n",
    "elem = elem.find_element(By.CLASS_NAME, 'evaluateNumber')\n",
    "elem.text"
   ]
  },
  {
   "cell_type": "code",
   "execution_count": 72,
   "id": "926e30e3",
   "metadata": {},
   "outputs": [],
   "source": [
    "# 各カテゴリ評価\n",
    "elem = elem_rankingBox.find_element(By.CLASS_NAME, 'u_categoryTipsItem')"
   ]
  },
  {
   "cell_type": "markdown",
   "id": "398425de",
   "metadata": {},
   "source": [
    "### 各項目(評価の数値のみ)を個別に取得\n",
    "#### 楽しさ"
   ]
  },
  {
   "cell_type": "code",
   "execution_count": 73,
   "id": "50128847",
   "metadata": {},
   "outputs": [],
   "source": [
    "# is_rankが「楽しさ」「人混みの多さ」等の文言だけの違いで並列で複数あるのでリストで取得\n",
    "elem = elem.find_elements(By.CLASS_NAME, 'is_rank')[0]"
   ]
  },
  {
   "cell_type": "code",
   "execution_count": 74,
   "id": "69160cbd",
   "metadata": {},
   "outputs": [
    {
     "data": {
      "text/plain": [
       "'4.6'"
      ]
     },
     "execution_count": 74,
     "metadata": {},
     "output_type": "execute_result"
    }
   ],
   "source": [
    "# elem.text でもいけるが、より確実に特定\n",
    "elem = elem.find_element(By.CLASS_NAME, 'evaluateNumber')\n",
    "elem.text"
   ]
  },
  {
   "cell_type": "markdown",
   "id": "80735b63",
   "metadata": {},
   "source": [
    "#### 人混みの多さ"
   ]
  },
  {
   "cell_type": "code",
   "execution_count": 75,
   "id": "240d30ea",
   "metadata": {},
   "outputs": [
    {
     "data": {
      "text/plain": [
       "'4.5'"
      ]
     },
     "execution_count": 75,
     "metadata": {},
     "output_type": "execute_result"
    }
   ],
   "source": [
    "# elem = browser.find_element(By.CLASS_NAME, 'u_categoryTipsItem') でも結果は同じだが、ページ全体の同名クラスの1番上を取っている\n",
    "elem = elem_rankingBox.find_element(By.CLASS_NAME, 'u_categoryTipsItem')\n",
    "elem = elem.find_elements(By.CLASS_NAME, 'is_rank')[1]\n",
    "elem = elem.find_element(By.CLASS_NAME, 'evaluateNumber')\n",
    "elem.text"
   ]
  },
  {
   "cell_type": "markdown",
   "id": "4bd17e26",
   "metadata": {},
   "source": [
    "#### 景色"
   ]
  },
  {
   "cell_type": "code",
   "execution_count": 76,
   "id": "2d24cb5e",
   "metadata": {},
   "outputs": [
    {
     "data": {
      "text/plain": [
       "'4.9'"
      ]
     },
     "execution_count": 76,
     "metadata": {},
     "output_type": "execute_result"
    }
   ],
   "source": [
    "elem = elem_rankingBox.find_element(By.CLASS_NAME, 'u_categoryTipsItem')\n",
    "elem = elem.find_elements(By.CLASS_NAME, 'is_rank')[2]\n",
    "elem = elem.find_element(By.CLASS_NAME, 'evaluateNumber')\n",
    "elem.text"
   ]
  },
  {
   "cell_type": "markdown",
   "id": "98df28d5",
   "metadata": {},
   "source": [
    "#### アクセス"
   ]
  },
  {
   "cell_type": "code",
   "execution_count": 77,
   "id": "b37a1b34",
   "metadata": {},
   "outputs": [
    {
     "data": {
      "text/plain": [
       "'4.2'"
      ]
     },
     "execution_count": 77,
     "metadata": {},
     "output_type": "execute_result"
    }
   ],
   "source": [
    "elem = elem_rankingBox.find_element(By.CLASS_NAME, 'u_categoryTipsItem')\n",
    "elem = elem.find_elements(By.CLASS_NAME, 'is_rank')[3]\n",
    "elem = elem.find_element(By.CLASS_NAME, 'evaluateNumber')\n",
    "elem.text"
   ]
  }
 ],
 "metadata": {
  "kernelspec": {
   "display_name": "Python 3 (ipykernel)",
   "language": "python",
   "name": "python3"
  },
  "language_info": {
   "codemirror_mode": {
    "name": "ipython",
    "version": 3
   },
   "file_extension": ".py",
   "mimetype": "text/x-python",
   "name": "python",
   "nbconvert_exporter": "python",
   "pygments_lexer": "ipython3",
   "version": "3.11.4"
  }
 },
 "nbformat": 4,
 "nbformat_minor": 5
}
