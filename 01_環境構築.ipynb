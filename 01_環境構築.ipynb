{
 "cells": [
  {
   "cell_type": "markdown",
   "id": "c0a19bfa",
   "metadata": {},
   "source": [
    "### 準備が無事できてるかのテスト\n",
    "#### ※事前にChromedriver、Selenium、Pillowのインストールが必要"
   ]
  },
  {
   "cell_type": "code",
   "execution_count": 11,
   "id": "7186a660",
   "metadata": {},
   "outputs": [],
   "source": [
    "# selenium(本来はWebアプリのテスト自動化ツール)の読み込み\n",
    "from selenium import webdriver"
   ]
  },
  {
   "cell_type": "code",
   "execution_count": 12,
   "id": "a39beb05",
   "metadata": {},
   "outputs": [],
   "source": [
    "# 一時停止用の標準ライブラリの読み込みテスト\n",
    "from time import sleep"
   ]
  },
  {
   "cell_type": "code",
   "execution_count": 14,
   "id": "8d5a45a0",
   "metadata": {},
   "outputs": [],
   "source": [
    "# Google Chromeを立ち上げる(Macの場合。Windowsはもう少し面倒)\n",
    "browser = webdriver.Chrome()"
   ]
  },
  {
   "cell_type": "code",
   "execution_count": 15,
   "id": "2712c4f2",
   "metadata": {},
   "outputs": [],
   "source": [
    "# 試しに適当なサイトにアクセス\n",
    "browser.get('https://google.com')"
   ]
  },
  {
   "cell_type": "code",
   "execution_count": 16,
   "id": "75ce702c",
   "metadata": {},
   "outputs": [],
   "source": [
    "#ブラウザを閉じる（必要性は無いが、動作テストの一環として）\n",
    "browser.quit()"
   ]
  },
  {
   "cell_type": "code",
   "execution_count": 18,
   "id": "7184126d",
   "metadata": {},
   "outputs": [],
   "source": [
    "# 再度ブラウザを開き、指定のページを表示\n",
    "browser = webdriver.Chrome()\n",
    "browser.get('https://www.rakuten.co.jp')"
   ]
  },
  {
   "cell_type": "code",
   "execution_count": 4,
   "id": "e1fac0be",
   "metadata": {},
   "outputs": [],
   "source": [
    "# 画像収集の為のツールをテスト読み込み\n",
    "from PIL import Image"
   ]
  }
 ],
 "metadata": {
  "kernelspec": {
   "display_name": "Python 3 (ipykernel)",
   "language": "python",
   "name": "python3"
  },
  "language_info": {
   "codemirror_mode": {
    "name": "ipython",
    "version": 3
   },
   "file_extension": ".py",
   "mimetype": "text/x-python",
   "name": "python",
   "nbconvert_exporter": "python",
   "pygments_lexer": "ipython3",
   "version": "3.11.4"
  }
 },
 "nbformat": 4,
 "nbformat_minor": 5
}
