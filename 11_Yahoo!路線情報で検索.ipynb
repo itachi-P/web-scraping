{
 "cells": [
  {
   "cell_type": "markdown",
   "id": "840a4cee",
   "metadata": {},
   "source": [
    "# 池袋から神田への経路を探索\n",
    "**池袋駅**  から **神田駅** までの路線情報を検索\n",
    "\n",
    "https://transit.yahoo.co.jp"
   ]
  },
  {
   "cell_type": "code",
   "execution_count": 1,
   "id": "c3884db0",
   "metadata": {},
   "outputs": [],
   "source": [
    "from_st = '池袋'\n",
    "to_st = '神田'\n",
    "\n",
    "url = 'https://transit.yahoo.co.jp/search/result?from={}&to={}&fromgid=&togid=&flatlon=&tlatlon=&via=&viacode=&y=2023&m=08&d=28&hh=00&m1=4&m2=8&type=1&ticket=ic&expkind=1&userpass=1&ws=3&s=0&al=1&shin=1&ex=1&hb=1&lb=1&sr=1'.format(from_st, to_st)"
   ]
  },
  {
   "cell_type": "markdown",
   "id": "f22be85c",
   "metadata": {},
   "source": [
    "### TIPS\n",
    "**VSCode**や**Atom**, **sublimetext**等のエディターでは、上記のような文字列で&を選択状態にして `command + d` で同じ&を次々と選択中状態にできる。　\n",
    "最後の&まで選択した状態で、一度カーソルキー左で&の左側に移動した後にEnterを押すと、一度に全ての&の直前ごとに改行される。  \n",
    "一括置換機能と併せて覚えておくと便利。"
   ]
  },
  {
   "cell_type": "code",
   "execution_count": 2,
   "id": "643481bb",
   "metadata": {},
   "outputs": [
    {
     "data": {
      "text/plain": [
       "'https://transit.yahoo.co.jp/search/result?from=池袋&to=神田&fromgid=&togid=&flatlon=&tlatlon=&via=&viacode=&y=2023&m=08&d=28&hh=00&m1=4&m2=8&type=1&ticket=ic&expkind=1&userpass=1&ws=3&s=0&al=1&shin=1&ex=1&hb=1&lb=1&sr=1'"
      ]
     },
     "execution_count": 2,
     "metadata": {},
     "output_type": "execute_result"
    }
   ],
   "source": [
    "url"
   ]
  },
  {
   "cell_type": "code",
   "execution_count": 5,
   "id": "a8741e69",
   "metadata": {},
   "outputs": [],
   "source": [
    "from selenium import webdriver\n",
    "browser = webdriver.Chrome()\n",
    "browser.get(url)"
   ]
  }
 ],
 "metadata": {
  "kernelspec": {
   "display_name": "Python 3 (ipykernel)",
   "language": "python",
   "name": "python3"
  },
  "language_info": {
   "codemirror_mode": {
    "name": "ipython",
    "version": 3
   },
   "file_extension": ".py",
   "mimetype": "text/x-python",
   "name": "python",
   "nbconvert_exporter": "python",
   "pygments_lexer": "ipython3",
   "version": "3.11.4"
  }
 },
 "nbformat": 4,
 "nbformat_minor": 5
}
