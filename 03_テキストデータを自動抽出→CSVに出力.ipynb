{
 "cells": [
  {
   "cell_type": "code",
   "execution_count": 1,
   "id": "d51a5c9e",
   "metadata": {},
   "outputs": [],
   "source": [
    "from selenium import webdriver"
   ]
  },
  {
   "cell_type": "code",
   "execution_count": 2,
   "id": "4f666dfa",
   "metadata": {},
   "outputs": [],
   "source": [
    "browser = webdriver.Chrome()\n",
    "browser.get('https://scraping-for-beginner.herokuapp.com/login_page')"
   ]
  },
  {
   "cell_type": "code",
   "execution_count": 3,
   "id": "384511fe",
   "metadata": {},
   "outputs": [],
   "source": [
    "#HTMLのid属性からフォーム要素をコントロールする準備（Selenium ver4以降 find_element_by_xxは非推奨)\n",
    "from selenium.webdriver.common.by import By"
   ]
  },
  {
   "cell_type": "code",
   "execution_count": 4,
   "id": "abb6e6b0",
   "metadata": {},
   "outputs": [],
   "source": [
    "elem_username = browser.find_element(By.ID, 'username')"
   ]
  },
  {
   "cell_type": "code",
   "execution_count": 5,
   "id": "5812ed39",
   "metadata": {},
   "outputs": [],
   "source": [
    "#ユーザー名を打ち込む\n",
    "elem_username.send_keys('imanishi')"
   ]
  },
  {
   "cell_type": "code",
   "execution_count": 6,
   "id": "04166200",
   "metadata": {},
   "outputs": [],
   "source": [
    "elem_username = browser.find_element(By.ID, 'password')"
   ]
  },
  {
   "cell_type": "code",
   "execution_count": 7,
   "id": "cbe5355f",
   "metadata": {},
   "outputs": [],
   "source": [
    "elem_username.send_keys('kohei')"
   ]
  },
  {
   "cell_type": "code",
   "execution_count": 8,
   "id": "9c60640c",
   "metadata": {},
   "outputs": [],
   "source": [
    "# ログイン\n",
    "elem_login_btn = browser.find_element(By.ID, 'login-btn')\n",
    "elem_login_btn.click()"
   ]
  },
  {
   "cell_type": "code",
   "execution_count": 9,
   "id": "64ef13f3",
   "metadata": {},
   "outputs": [],
   "source": [
    "#ユーザー名の場所を取得する\n",
    "elem = browser.find_element(By.ID, 'name')"
   ]
  },
  {
   "cell_type": "code",
   "execution_count": 10,
   "id": "75746e5f",
   "metadata": {},
   "outputs": [
    {
     "data": {
      "text/plain": [
       "'今西 航平'"
      ]
     },
     "execution_count": 10,
     "metadata": {},
     "output_type": "execute_result"
    }
   ],
   "source": [
    "elem.text"
   ]
  },
  {
   "cell_type": "code",
   "execution_count": 11,
   "id": "e21641e3",
   "metadata": {},
   "outputs": [
    {
     "data": {
      "text/plain": [
       "'株式会社キカガク'"
      ]
     },
     "execution_count": 11,
     "metadata": {},
     "output_type": "execute_result"
    }
   ],
   "source": [
    "elem = browser.find_element(By.ID, 'company')\n",
    "elem.text"
   ]
  },
  {
   "cell_type": "code",
   "execution_count": 12,
   "id": "2d7ccf55",
   "metadata": {},
   "outputs": [
    {
     "data": {
      "text/plain": [
       "'1994年7月15日'"
      ]
     },
     "execution_count": 12,
     "metadata": {},
     "output_type": "execute_result"
    }
   ],
   "source": [
    "elem = browser.find_element(By.ID, 'birthday')\n",
    "elem.text"
   ]
  },
  {
   "cell_type": "code",
   "execution_count": 13,
   "id": "e7d0a809",
   "metadata": {},
   "outputs": [
    {
     "data": {
      "text/plain": [
       "'千葉県'"
      ]
     },
     "execution_count": 13,
     "metadata": {},
     "output_type": "execute_result"
    }
   ],
   "source": [
    "elem = browser.find_element(By.ID, 'come_from')\n",
    "elem.text"
   ]
  },
  {
   "cell_type": "code",
   "execution_count": 14,
   "id": "316eb553",
   "metadata": {},
   "outputs": [
    {
     "data": {
      "text/plain": [
       "'バスケットボール\\n読書\\nガジェット集め'"
      ]
     },
     "execution_count": 14,
     "metadata": {},
     "output_type": "execute_result"
    }
   ],
   "source": [
    "elem = browser.find_element(By.ID, 'hobby')\n",
    "elem.text"
   ]
  },
  {
   "cell_type": "code",
   "execution_count": 15,
   "id": "ed86b9a8",
   "metadata": {},
   "outputs": [
    {
     "data": {
      "text/plain": [
       "str"
      ]
     },
     "execution_count": 15,
     "metadata": {},
     "output_type": "execute_result"
    }
   ],
   "source": [
    "hobby = elem.text\n",
    "type(hobby) # 型を確認"
   ]
  },
  {
   "cell_type": "code",
   "execution_count": 16,
   "id": "003fe544",
   "metadata": {},
   "outputs": [
    {
     "data": {
      "text/plain": [
       "'バスケットボール, 読書, ガジェット集め'"
      ]
     },
     "execution_count": 16,
     "metadata": {},
     "output_type": "execute_result"
    }
   ],
   "source": [
    "hobby.replace('\\n', ', ')"
   ]
  },
  {
   "cell_type": "code",
   "execution_count": 17,
   "id": "d073fd44",
   "metadata": {},
   "outputs": [],
   "source": [
    "# tableHeader(項目名)の文字列を取得\n",
    "elem_th = browser.find_element(By.TAG_NAME, 'th')"
   ]
  },
  {
   "cell_type": "code",
   "execution_count": 18,
   "id": "657cedec",
   "metadata": {},
   "outputs": [
    {
     "data": {
      "text/plain": [
       "'講師名'"
      ]
     },
     "execution_count": 18,
     "metadata": {},
     "output_type": "execute_result"
    }
   ],
   "source": [
    "elem_th.text #複数ある<th>中の一番最初しか取得できない"
   ]
  },
  {
   "cell_type": "code",
   "execution_count": 19,
   "id": "c74c8eb4",
   "metadata": {},
   "outputs": [],
   "source": [
    "# tableの項目名群の文字列を一括取得\n",
    "elems_th = browser.find_elements(By.TAG_NAME, 'th')"
   ]
  },
  {
   "cell_type": "code",
   "execution_count": 20,
   "id": "bf1a1b52",
   "metadata": {},
   "outputs": [
    {
     "data": {
      "text/plain": [
       "list"
      ]
     },
     "execution_count": 20,
     "metadata": {},
     "output_type": "execute_result"
    }
   ],
   "source": [
    "type(elems_th) # 型を確認"
   ]
  },
  {
   "cell_type": "code",
   "execution_count": 21,
   "id": "f9801c8c",
   "metadata": {},
   "outputs": [
    {
     "data": {
      "text/plain": [
       "'講師名'"
      ]
     },
     "execution_count": 21,
     "metadata": {},
     "output_type": "execute_result"
    }
   ],
   "source": [
    "elems_th[0].text"
   ]
  },
  {
   "cell_type": "code",
   "execution_count": 22,
   "id": "26d46c0a",
   "metadata": {},
   "outputs": [
    {
     "data": {
      "text/plain": [
       "['講師名', '所属企業', '生年月日', '出身', '趣味']"
      ]
     },
     "execution_count": 22,
     "metadata": {},
     "output_type": "execute_result"
    }
   ],
   "source": [
    "keys = [] #配列に格納\n",
    "\n",
    "for elem_th in elems_th:\n",
    "    key = elem_th.text\n",
    "    keys.append(key)\n",
    "keys"
   ]
  },
  {
   "cell_type": "code",
   "execution_count": 23,
   "id": "b536d5fa",
   "metadata": {},
   "outputs": [
    {
     "data": {
      "text/plain": [
       "['今西 航平', '株式会社キカガク', '1994年7月15日', '千葉県', 'バスケットボール\\n読書\\nガジェット集め']"
      ]
     },
     "execution_count": 23,
     "metadata": {},
     "output_type": "execute_result"
    }
   ],
   "source": [
    "values = []\n",
    "elems_td = browser.find_elements(By.TAG_NAME, 'td')\n",
    "for elem_td in elems_td:\n",
    "    value = elem_td.text\n",
    "    values.append(value)\n",
    "values"
   ]
  },
  {
   "cell_type": "code",
   "execution_count": 24,
   "id": "c995a507",
   "metadata": {},
   "outputs": [],
   "source": [
    "# Pandas(Pythonのデータ解析ライブラリ)を使ってCSVファイルに出力する\n",
    "import pandas as pd"
   ]
  },
  {
   "cell_type": "code",
   "execution_count": 25,
   "id": "7034c09f",
   "metadata": {},
   "outputs": [],
   "source": [
    "# 空のDataFrame（二次元の表）を定義\n",
    "df = pd.DataFrame()"
   ]
  },
  {
   "cell_type": "code",
   "execution_count": 26,
   "id": "c11e4cdb",
   "metadata": {},
   "outputs": [],
   "source": [
    "# CSVの中身を形成\n",
    "df['項目'] = keys\n",
    "df['値'] = values"
   ]
  },
  {
   "cell_type": "code",
   "execution_count": 27,
   "id": "3b814c7e",
   "metadata": {},
   "outputs": [
    {
     "data": {
      "text/html": [
       "<div>\n",
       "<style scoped>\n",
       "    .dataframe tbody tr th:only-of-type {\n",
       "        vertical-align: middle;\n",
       "    }\n",
       "\n",
       "    .dataframe tbody tr th {\n",
       "        vertical-align: top;\n",
       "    }\n",
       "\n",
       "    .dataframe thead th {\n",
       "        text-align: right;\n",
       "    }\n",
       "</style>\n",
       "<table border=\"1\" class=\"dataframe\">\n",
       "  <thead>\n",
       "    <tr style=\"text-align: right;\">\n",
       "      <th></th>\n",
       "      <th>項目</th>\n",
       "      <th>値</th>\n",
       "    </tr>\n",
       "  </thead>\n",
       "  <tbody>\n",
       "    <tr>\n",
       "      <th>0</th>\n",
       "      <td>講師名</td>\n",
       "      <td>今西 航平</td>\n",
       "    </tr>\n",
       "    <tr>\n",
       "      <th>1</th>\n",
       "      <td>所属企業</td>\n",
       "      <td>株式会社キカガク</td>\n",
       "    </tr>\n",
       "    <tr>\n",
       "      <th>2</th>\n",
       "      <td>生年月日</td>\n",
       "      <td>1994年7月15日</td>\n",
       "    </tr>\n",
       "    <tr>\n",
       "      <th>3</th>\n",
       "      <td>出身</td>\n",
       "      <td>千葉県</td>\n",
       "    </tr>\n",
       "    <tr>\n",
       "      <th>4</th>\n",
       "      <td>趣味</td>\n",
       "      <td>バスケットボール\\n読書\\nガジェット集め</td>\n",
       "    </tr>\n",
       "  </tbody>\n",
       "</table>\n",
       "</div>"
      ],
      "text/plain": [
       "     項目                      値\n",
       "0   講師名                  今西 航平\n",
       "1  所属企業               株式会社キカガク\n",
       "2  生年月日             1994年7月15日\n",
       "3    出身                    千葉県\n",
       "4    趣味  バスケットボール\\n読書\\nガジェット集め"
      ]
     },
     "execution_count": 27,
     "metadata": {},
     "output_type": "execute_result"
    }
   ],
   "source": [
    "df #保存前にCSVの中身を簡易表示"
   ]
  },
  {
   "cell_type": "code",
   "execution_count": 28,
   "id": "741198f8",
   "metadata": {},
   "outputs": [],
   "source": [
    "# CSVファイルとして保存\n",
    "df.to_csv('講師情報.csv', index=False) # 左のナンバリングは除外して保存"
   ]
  }
 ],
 "metadata": {
  "kernelspec": {
   "display_name": "Python 3 (ipykernel)",
   "language": "python",
   "name": "python3"
  },
  "language_info": {
   "codemirror_mode": {
    "name": "ipython",
    "version": 3
   },
   "file_extension": ".py",
   "mimetype": "text/x-python",
   "name": "python",
   "nbconvert_exporter": "python",
   "pygments_lexer": "ipython3",
   "version": "3.11.4"
  }
 },
 "nbformat": 4,
 "nbformat_minor": 5
}
