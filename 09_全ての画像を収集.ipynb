{
 "cells": [
  {
   "cell_type": "markdown",
   "metadata": {},
   "source": [
    "## すべての画像を収集\n",
    "### 1枚の画像取得の流れ→すべての画像を取得するコードにカスタマイズする"
   ]
  },
  {
   "cell_type": "code",
   "execution_count": 5,
   "metadata": {},
   "outputs": [],
   "source": [
    "from selenium import webdriver\n",
    "browser = webdriver.Chrome()\n",
    "browser.get('https://scraping-for-beginner.herokuapp.com/image')\n",
    "from selenium.webdriver.common.by import By"
   ]
  },
  {
   "cell_type": "code",
   "execution_count": null,
   "metadata": {},
   "outputs": [],
   "source": [
    "# (参考用) 1枚の画像取得の流れ\n",
    "elem = browser.find_element(By.CLASS_NAME, 'material-placeholder')\n",
    "elem = elem.find_element(By.TAG_NAME, 'img')\n",
    "\n",
    "img_url = elem.get_attribute('src')\n",
    "\n",
    "import io\n",
    "from urllib import request\n",
    "\n",
    "f = io.BytesIO(request.urlopen(img_url).read())\n",
    "\n",
    "from PIL import Image\n",
    "img = Image.open(f)\n",
    "img.save('images/sample01.jpg')"
   ]
  },
  {
   "cell_type": "code",
   "execution_count": 6,
   "metadata": {},
   "outputs": [],
   "source": [
    "# 上記をすべての画像の収集ロジックに書き換える\n",
    "import io\n",
    "from urllib import request\n",
    "from PIL import Image\n",
    "\n",
    "elems = browser.find_elements(By.CLASS_NAME, 'material-placeholder')\n",
    "\n",
    "# ファイル名を連番にするために、enumerateを使ってindexも同時に取得する\n",
    "# todo: 連番でなく、srcのファイル名を取得してその名前で保存するロジックも書く\n",
    "for index, elem in enumerate(elems):\n",
    "\telem = elem.find_element(By.TAG_NAME, 'img')\n",
    "\timg_url = elem.get_attribute('src')\n",
    " \n",
    "\tf = io.BytesIO(request.urlopen(img_url).read())\n",
    "\timg = Image.open(f)\n",
    "\t# 保存する前に画像のサイズを統一することも可能\n",
    "\timg = img.resize((600, 400))\n",
    "\timg.save('images/img{}.jpg'.format(index+1))"
   ]
  }
 ],
 "metadata": {
  "kernelspec": {
   "display_name": "base",
   "language": "python",
   "name": "python3"
  },
  "language_info": {
   "codemirror_mode": {
    "name": "ipython",
    "version": 3
   },
   "file_extension": ".py",
   "mimetype": "text/x-python",
   "name": "python",
   "nbconvert_exporter": "python",
   "pygments_lexer": "ipython3",
   "version": "3.11.4"
  },
  "orig_nbformat": 4
 },
 "nbformat": 4,
 "nbformat_minor": 2
}
