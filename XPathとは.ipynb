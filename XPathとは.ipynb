{
 "cells": [
  {
   "cell_type": "markdown",
   "id": "5aeee6d1",
   "metadata": {},
   "source": [
    "# XPathとは\n",
    "## XML文書の特定の要素や属性値の場所を指定する書式\n",
    "### HTMLもXML同様のツリー構造なのでそのまま利用できる"
   ]
  },
  {
   "cell_type": "code",
   "execution_count": 12,
   "id": "ac96ad9f",
   "metadata": {},
   "outputs": [],
   "source": [
    "from selenium import webdriver\n",
    "browser = webdriver.Chrome()\n",
    "browser.get('https://scraping-for-beginner.herokuapp.com/ranking')\n",
    "from selenium.webdriver.common.by import By"
   ]
  },
  {
   "cell_type": "markdown",
   "id": "9c33b108",
   "metadata": {},
   "source": [
    "### Chromeの検証ツールで特定の要素を右クリック>Copy XPathと選択すると取得可能\n",
    "#### 欲しい値の外側のIDやクラス名、要素名、属性名等から辿っていくより便利（な場合もある）"
   ]
  },
  {
   "cell_type": "code",
   "execution_count": 13,
   "id": "7a7982c4",
   "metadata": {},
   "outputs": [],
   "source": [
    "xpath = '/html/body/div[2]/div/div[3]/div[4]/dl[1]/dd[1]/span'"
   ]
  },
  {
   "cell_type": "code",
   "execution_count": 14,
   "id": "196bbdc7",
   "metadata": {},
   "outputs": [
    {
     "data": {
      "text/plain": [
       "'4.6'"
      ]
     },
     "execution_count": 14,
     "metadata": {},
     "output_type": "execute_result"
    }
   ],
   "source": [
    "browser.find_element(By.XPATH, xpath).text"
   ]
  },
  {
   "cell_type": "code",
   "execution_count": 17,
   "id": "7526617e",
   "metadata": {},
   "outputs": [],
   "source": [
    "# classのような要素に紐づく属性をXPathでは『@』で表す\n",
    "xpath = '/html/body/div[2]/div/div[3]/div[4]/dl[1]/dd[@class=\"comment\"]'"
   ]
  },
  {
   "cell_type": "code",
   "execution_count": 18,
   "id": "8d12931d",
   "metadata": {},
   "outputs": [
    {
     "data": {
      "text/plain": [
       "'楽しくて帰りたくなかった'"
      ]
     },
     "execution_count": 18,
     "metadata": {},
     "output_type": "execute_result"
    }
   ],
   "source": [
    "browser.find_element(By.XPATH, xpath).text"
   ]
  },
  {
   "cell_type": "code",
   "execution_count": 25,
   "id": "2bdf3099",
   "metadata": {},
   "outputs": [],
   "source": [
    "# 指定する文字列が含まれている要素を取得する: contains関数\n",
    "# テキスト中に指定の言葉を含むdd要素を取得する\n",
    "xpath = \"//dd[contains(text(), '自然')]\""
   ]
  },
  {
   "cell_type": "code",
   "execution_count": 26,
   "id": "1bc59639",
   "metadata": {},
   "outputs": [
    {
     "data": {
      "text/plain": [
       "'大自然を感じることができた'"
      ]
     },
     "execution_count": 26,
     "metadata": {},
     "output_type": "execute_result"
    }
   ],
   "source": [
    "browser.find_element(By.XPATH, xpath).text"
   ]
  },
  {
   "cell_type": "code",
   "execution_count": null,
   "id": "281cdf94",
   "metadata": {},
   "outputs": [],
   "source": []
  }
 ],
 "metadata": {
  "kernelspec": {
   "display_name": "Python 3 (ipykernel)",
   "language": "python",
   "name": "python3"
  },
  "language_info": {
   "codemirror_mode": {
    "name": "ipython",
    "version": 3
   },
   "file_extension": ".py",
   "mimetype": "text/x-python",
   "name": "python",
   "nbconvert_exporter": "python",
   "pygments_lexer": "ipython3",
   "version": "3.11.4"
  }
 },
 "nbformat": 4,
 "nbformat_minor": 5
}
