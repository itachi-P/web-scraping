{
 "cells": [
  {
   "cell_type": "code",
   "execution_count": 70,
   "id": "5114bd20",
   "metadata": {},
   "outputs": [],
   "source": [
    "from selenium import webdriver\n",
    "browser = webdriver.Chrome()\n",
    "from selenium.webdriver.common.by import By\n",
    "import time"
   ]
  },
  {
   "cell_type": "code",
   "execution_count": 71,
   "id": "b04a56d6",
   "metadata": {},
   "outputs": [],
   "source": [
    "import io\n",
    "from urllib import request\n",
    "from PIL import Image"
   ]
  },
  {
   "cell_type": "code",
   "execution_count": 72,
   "id": "cffd7618",
   "metadata": {},
   "outputs": [],
   "source": [
    "url = 'https://pz-garden.stardust31.com/syokuniku-moku/itati-haiena-ka/itati-ka.html'\n",
    "browser.get(url)\n",
    "\n",
    "page_urls = []\n",
    "# テキストに「プロフィール」を含む<font>の親要素である<a>を取得\n",
    "xpath = '//font[contains(text(), \"プロフィール\")]/parent::a'"
   ]
  },
  {
   "cell_type": "code",
   "execution_count": 73,
   "id": "e2b43918",
   "metadata": {},
   "outputs": [],
   "source": [
    "elems_url = browser.find_elements(By.XPATH, xpath)"
   ]
  },
  {
   "cell_type": "code",
   "execution_count": 74,
   "id": "524f3019",
   "metadata": {},
   "outputs": [
    {
     "data": {
      "text/plain": [
       "['https://pz-garden.stardust31.com/syokuniku-moku/itati-haiena-ka/anaguma.html',\n",
       " 'https://pz-garden.stardust31.com/syokuniku-moku/itati-haiena-ka/kawauso.html',\n",
       " 'https://pz-garden.stardust31.com/syokuniku-moku/itati-haiena-ka/kuzuri.html',\n",
       " 'https://pz-garden.stardust31.com/syokuniku-moku/itati-haiena-ka/kotime-kawauso.html',\n",
       " 'https://pz-garden.stardust31.com/syokuniku-moku/itati-haiena-ka/sima-sukanku.html',\n",
       " 'https://pz-garden.stardust31.com/syokuniku-moku/itati-haiena-ka/tumenasi-kawauso.html',\n",
       " 'https://pz-garden.stardust31.com/syokuniku-moku/itati-haiena-ka/ten.html',\n",
       " 'https://pz-garden.stardust31.com/syokuniku-moku/itati-haiena-ka/nihon-anaguma.html',\n",
       " 'https://pz-garden.stardust31.com/syokuniku-moku/itati-haiena-ka/feret.html',\n",
       " 'https://pz-garden.stardust31.com/syokuniku-moku/itati-haiena-ka/rakko.html',\n",
       " 'https://pz-garden.stardust31.com/syokuniku-moku/itati-haiena-ka/ratel.html']"
      ]
     },
     "execution_count": 74,
     "metadata": {},
     "output_type": "execute_result"
    }
   ],
   "source": [
    "# page_names = []\n",
    "\n",
    "for elem_url in elems_url:\n",
    "    page_url = elem_url.get_attribute('href')\n",
    "    page_urls.append(page_url)\n",
    "#     page_name = page_url.split('/')[5]\n",
    "#     page_name = page_name.split('.html')[0]\n",
    "#     page_names.append(page_name)\n",
    "page_urls"
   ]
  },
  {
   "cell_type": "code",
   "execution_count": 61,
   "id": "3a3437f2",
   "metadata": {},
   "outputs": [
    {
     "data": {
      "text/plain": [
       "['anaguma',\n",
       " 'kawauso',\n",
       " 'kuzuri',\n",
       " 'kotime-kawauso',\n",
       " 'sima-sukanku',\n",
       " 'tumenasi-kawauso',\n",
       " 'ten',\n",
       " 'nihon-anaguma',\n",
       " 'feret',\n",
       " 'rakko',\n",
       " 'ratel']"
      ]
     },
     "execution_count": 61,
     "metadata": {},
     "output_type": "execute_result"
    }
   ],
   "source": [
    "page_names"
   ]
  },
  {
   "cell_type": "code",
   "execution_count": 76,
   "id": "03050cec",
   "metadata": {},
   "outputs": [],
   "source": [
    "#photo_urls = []\n",
    "\n",
    "for page in pages:\n",
    "    browser.get(page)\n",
    "    \n",
    "    # alt属性に「動物図鑑」を含むimgタグを全て取得\n",
    "    xpath ='//img[contains(@alt, \"動物図鑑\")]'\n",
    "    elems_img = browser.find_elements(By.XPATH, xpath)\n",
    "    \n",
    "    for index, elem_img in enumerate(elems_img):\n",
    "        photo_url = elem_img.get_attribute('src')\n",
    "        #photo_urls.append(photo_url)\n",
    "        image_data = request.urlopen(photo_url).read()\n",
    "        image_binary = io.BytesIO(image_data)\n",
    "        img = Image.open(image_binary)\n",
    "        #img = img.resize((1280, 800))\n",
    "        \n",
    "        # ファイル名の生成\n",
    "        # ページ名 + _ + 0埋めした3ケタの連番で生成する場合\n",
    "        page_name = page.split('/')[5].split('.html')[0]\n",
    "        img.save('images/{0}_{1:03d}.jpg'.format(page_name, index))\n",
    "\n",
    "        # 元々のファイル名をそのまま取ってきて何も加工しない場合(命名ルールによっては問題が起き得る)\n",
    "        #photo_name = photo_url.split('/')[6]\n",
    "        #img.save('images/{}'.format(photo_name))\n"
   ]
  },
  {
   "cell_type": "code",
   "execution_count": 69,
   "id": "c405c32a",
   "metadata": {},
   "outputs": [
    {
     "data": {
      "text/plain": [
       "['https://pz-garden.stardust31.com/syokuniku-moku/itati-haiena-ka/photo/anaguma.a~WM.jpg',\n",
       " 'https://pz-garden.stardust31.com/syokuniku-moku/itati-haiena-ka/photo/anaguma(8).a~WM.jpg',\n",
       " 'https://pz-garden.stardust31.com/syokuniku-moku/itati-haiena-ka/photo/anaguma(1).a~WM.jpg',\n",
       " 'https://pz-garden.stardust31.com/syokuniku-moku/itati-haiena-ka/photo/anaguma(2).a~WM.jpg',\n",
       " 'https://pz-garden.stardust31.com/syokuniku-moku/itati-haiena-ka/photo/anaguma(7).a~WM.jpg',\n",
       " 'https://pz-garden.stardust31.com/syokuniku-moku/itati-haiena-ka/photo/anaguma(5).a~WM.jpg',\n",
       " 'https://pz-garden.stardust31.com/syokuniku-moku/itati-haiena-ka/photo/nihon-anaguma.a~WMM.jpg',\n",
       " 'https://pz-garden.stardust31.com/syokuniku-moku/itati-haiena-ka/photo/nihon-anaguma.a~WMM%20(4).jpg',\n",
       " 'https://pz-garden.stardust31.com/syokuniku-moku/itati-haiena-ka/photo/nihon-anaguma.a~WMM%20(2).jpg',\n",
       " 'https://pz-garden.stardust31.com/syokuniku-moku/itati-haiena-ka/photo/nihin-anagumaWM%20(4).jpg',\n",
       " 'https://pz-garden.stardust31.com/syokuniku-moku/itati-haiena-ka/photo/nihonanaguma%20(2).JPG',\n",
       " 'https://pz-garden.stardust31.com/syokuniku-moku/itati-haiena-ka/photo/nihonanaguma%20(3).JPG',\n",
       " 'https://pz-garden.stardust31.com/syokuniku-moku/itati-haiena-ka/photo/yurasia-kawauso(3).a~WM.jpg',\n",
       " 'https://pz-garden.stardust31.com/syokuniku-moku/itati-haiena-ka/photo/yurasia-kawauso(1).a~WM.jpg',\n",
       " 'https://pz-garden.stardust31.com/syokuniku-moku/itati-haiena-ka/photo/yurasia-kawauso.a~WM.jpg',\n",
       " 'https://pz-garden.stardust31.com/syokuniku-moku/itati-haiena-ka/photo/yurasia-kawauso(2).a~WM.jpg',\n",
       " 'https://pz-garden.stardust31.com/syokuniku-moku/itati-haiena-ka/photo/kuzuri(3).a~WM.jpg',\n",
       " 'https://pz-garden.stardust31.com/syokuniku-moku/itati-haiena-ka/photo/kuzuri(2).a~WM.jpg',\n",
       " 'https://pz-garden.stardust31.com/syokuniku-moku/itati-haiena-ka/photo/kuzuri(4).a~WM.jpg',\n",
       " 'https://pz-garden.stardust31.com/syokuniku-moku/itati-haiena-ka/photo/kuzuri(1).a~WM.jpg',\n",
       " 'https://pz-garden.stardust31.com/syokuniku-moku/itati-haiena-ka/photo/kuzuri.a~WM.jpg',\n",
       " 'https://pz-garden.stardust31.com/syokuniku-moku/itati-haiena-ka/photo/kuzuri.jpg',\n",
       " 'https://pz-garden.stardust31.com/syokuniku-moku/itati-haiena-ka/photo/kotume-kawausoWM%20(5).jpg',\n",
       " 'https://pz-garden.stardust31.com/syokuniku-moku/itati-haiena-ka/photo/kotume-kawausoWM.jpg',\n",
       " 'https://pz-garden.stardust31.com/syokuniku-moku/itati-haiena-ka/photo/kotume-kawausoWM%20(3).jpg',\n",
       " 'https://pz-garden.stardust31.com/syokuniku-moku/itati-haiena-ka/photo/kotume-kawausoWM%20(7).jpg',\n",
       " 'https://pz-garden.stardust31.com/syokuniku-moku/itati-haiena-ka/photo/kotume-kawauaoWMa%20(1).jpg',\n",
       " 'https://pz-garden.stardust31.com/syokuniku-moku/itati-haiena-ka/photo/kotume-kawausoWMM%20(8).jpg',\n",
       " 'https://pz-garden.stardust31.com/syokuniku-moku/itati-haiena-ka/photo/kotume-kawausoWMM%20(6).jpg',\n",
       " 'https://pz-garden.stardust31.com/syokuniku-moku/itati-haiena-ka/photo/kotume-kawauso.aaWM%20(6).jpg',\n",
       " 'https://pz-garden.stardust31.com/syokuniku-moku/itati-haiena-ka/photo/kotume-kawauso.aaWM%20(10).jpg',\n",
       " 'https://pz-garden.stardust31.com/syokuniku-moku/itati-haiena-ka/photo/kotume-kawauso.aaWM%20(14).jpg',\n",
       " 'https://pz-garden.stardust31.com/syokuniku-moku/itati-haiena-ka/photo/kotume-kawausoMM%20(1).jpg',\n",
       " 'https://pz-garden.stardust31.com/syokuniku-moku/itati-haiena-ka/photo/kotume-kawausoMM%20(7).jpg',\n",
       " 'https://pz-garden.stardust31.com/syokuniku-moku/itati-haiena-ka/photo/kotume-kawausoMM%20(3).jpg',\n",
       " 'https://pz-garden.stardust31.com/syokuniku-moku/itati-haiena-ka/photo/sima-sukanku(3).a~WM.jpg',\n",
       " 'https://pz-garden.stardust31.com/syokuniku-moku/itati-haiena-ka/photo/sima-sukanku(4)WM.jpg',\n",
       " 'https://pz-garden.stardust31.com/syokuniku-moku/itati-haiena-ka/photo/sima-sukanku(1).a~WM.jpg',\n",
       " 'https://pz-garden.stardust31.com/syokuniku-moku/itati-haiena-ka/photo/sima-sukankuWM.jpg',\n",
       " 'https://pz-garden.stardust31.com/syokuniku-moku/itati-haiena-ka/photo/sima-sukanku(2).a~WM.jpg',\n",
       " 'https://pz-garden.stardust31.com/syokuniku-moku/itati-haiena-ka/photo/simasukankuWM.jpg',\n",
       " 'https://pz-garden.stardust31.com/syokuniku-moku/itati-haiena-ka/photo/tumenasi-kawausoWM%20(1).jpg',\n",
       " 'https://pz-garden.stardust31.com/syokuniku-moku/itati-haiena-ka/photo/tumenasi-kawausoWM%20(4).jpg',\n",
       " 'https://pz-garden.stardust31.com/syokuniku-moku/itati-haiena-ka/photo/tumenasi-kawausoWM%20(5).jpg',\n",
       " 'https://pz-garden.stardust31.com/syokuniku-moku/itati-haiena-ka/photo/tumenasi-kawausoWM%20(7).jpg',\n",
       " 'https://pz-garden.stardust31.com/syokuniku-moku/itati-haiena-ka/photo/tumenasi-kawausoWM.jpg',\n",
       " 'https://pz-garden.stardust31.com/syokuniku-moku/itati-haiena-ka/photo/tumenasi-kawausoWM%20(6).jpg',\n",
       " 'https://pz-garden.stardust31.com/syokuniku-moku/itati-haiena-ka/photo/ten(3).a~WM.jpg',\n",
       " 'https://pz-garden.stardust31.com/syokuniku-moku/itati-haiena-ka/photo/ten(1).a~WM.jpg',\n",
       " 'https://pz-garden.stardust31.com/syokuniku-moku/itati-haiena-ka/photo/ten.a~WM.jpg',\n",
       " 'https://pz-garden.stardust31.com/syokuniku-moku/itati-haiena-ka/photo/ten%20(1).JPG',\n",
       " 'https://pz-garden.stardust31.com/syokuniku-moku/itati-haiena-ka/photo/ten%20(2).jpg',\n",
       " 'https://pz-garden.stardust31.com/syokuniku-moku/itati-haiena-ka/photo/nihin-anagumaWM%20(5).jpg',\n",
       " 'https://pz-garden.stardust31.com/syokuniku-moku/itati-haiena-ka/photo/nihin-anagumaWM%20(1).jpg',\n",
       " 'https://pz-garden.stardust31.com/syokuniku-moku/itati-haiena-ka/photo/nihin-anagumaWM.jpg',\n",
       " 'https://pz-garden.stardust31.com/syokuniku-moku/itati-haiena-ka/photo/nihin-anagumaWM%20(2).jpg',\n",
       " 'https://pz-garden.stardust31.com/syokuniku-moku/itati-haiena-ka/photo/nihin-anagumaWM%20(3).jpg',\n",
       " 'https://pz-garden.stardust31.com/syokuniku-moku/itati-haiena-ka/photo/nihonanaguma%20(1).JPG',\n",
       " 'https://pz-garden.stardust31.com/syokuniku-moku/itati-haiena-ka/photo/nihon-anaguma.a~WMM%20(1).jpg',\n",
       " 'https://pz-garden.stardust31.com/syokuniku-moku/itati-haiena-ka/photo/nihonanaguma%20(5).JPG',\n",
       " 'https://pz-garden.stardust31.com/syokuniku-moku/itati-haiena-ka/photo/nihonanaguma%20(6).JPG',\n",
       " 'https://pz-garden.stardust31.com/syokuniku-moku/itati-haiena-ka/photo/nihonanaguma%20(7).JPG',\n",
       " 'https://pz-garden.stardust31.com/syokuniku-moku/itati-haiena-ka/photo/nihonanaguma%20(8).JPG',\n",
       " 'https://pz-garden.stardust31.com/syokuniku-moku/itati-haiena-ka/photo/feretto(2).a~WM.jpg',\n",
       " 'https://pz-garden.stardust31.com/syokuniku-moku/itati-haiena-ka/photo/feretto(1).a~WM.jpg',\n",
       " 'https://pz-garden.stardust31.com/syokuniku-moku/itati-haiena-ka/photo/feretto.a~WM.jpg',\n",
       " 'https://pz-garden.stardust31.com/syokuniku-moku/itati-haiena-ka/photo/rakkoWM%20(6).jpg',\n",
       " 'https://pz-garden.stardust31.com/syokuniku-moku/itati-haiena-ka/photo/rakkoWM%20(8).jpg',\n",
       " 'https://pz-garden.stardust31.com/syokuniku-moku/itati-haiena-ka/photo/rakkoWM%20(9).jpg',\n",
       " 'https://pz-garden.stardust31.com/syokuniku-moku/itati-haiena-ka/photo/rakkoWM%20(5).jpg',\n",
       " 'https://pz-garden.stardust31.com/syokuniku-moku/itati-haiena-ka/photo/rakkoWM%20(7).jpg',\n",
       " 'https://pz-garden.stardust31.com/syokuniku-moku/itati-haiena-ka/photo/rakkoWM.jpg',\n",
       " 'https://pz-garden.stardust31.com/syokuniku-moku/itati-haiena-ka/photo/rakko(1).a~WM.jpg',\n",
       " 'https://pz-garden.stardust31.com/syokuniku-moku/itati-haiena-ka/photo/rakko(2).a~WM.jpg',\n",
       " 'https://pz-garden.stardust31.com/syokuniku-moku/itati-haiena-ka/photo/ratelWM%20(2).jpg',\n",
       " 'https://pz-garden.stardust31.com/syokuniku-moku/itati-haiena-ka/photo/ratelWM%20(4).jpg',\n",
       " 'https://pz-garden.stardust31.com/syokuniku-moku/itati-haiena-ka/photo/ratelWM%20(1).jpg']"
      ]
     },
     "execution_count": 69,
     "metadata": {},
     "output_type": "execute_result"
    }
   ],
   "source": [
    "photo_urls"
   ]
  },
  {
   "cell_type": "code",
   "execution_count": 78,
   "id": "1b860d54",
   "metadata": {},
   "outputs": [],
   "source": [
    "browser.close()"
   ]
  },
  {
   "cell_type": "code",
   "execution_count": 77,
   "id": "4e124e43",
   "metadata": {},
   "outputs": [],
   "source": [
    "import pandas as pd\n",
    "df = pd.DataFrame()\n",
    "\n",
    "df['page_url'] = page_urls\n",
    "df.to_csv('animals_urls.csv', index=False)"
   ]
  }
 ],
 "metadata": {
  "kernelspec": {
   "display_name": "Python 3 (ipykernel)",
   "language": "python",
   "name": "python3"
  },
  "language_info": {
   "codemirror_mode": {
    "name": "ipython",
    "version": 3
   },
   "file_extension": ".py",
   "mimetype": "text/x-python",
   "name": "python",
   "nbconvert_exporter": "python",
   "pygments_lexer": "ipython3",
   "version": "3.11.4"
  }
 },
 "nbformat": 4,
 "nbformat_minor": 5
}
