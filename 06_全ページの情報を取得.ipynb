{
 "cells": [
  {
   "cell_type": "code",
   "execution_count": 10,
   "id": "2904ab07",
   "metadata": {},
   "outputs": [],
   "source": [
    "from selenium import webdriver"
   ]
  },
  {
   "cell_type": "code",
   "execution_count": 11,
   "id": "82c66e83",
   "metadata": {},
   "outputs": [],
   "source": [
    "from selenium.webdriver.common.by import By"
   ]
  },
  {
   "cell_type": "code",
   "execution_count": null,
   "id": "b3e5def1",
   "metadata": {},
   "outputs": [],
   "source": [
    "#（寄り道）ページ最下部の次のページへのリンクを押す方法\n",
    "pagination = browser.find_element(By.ID, 'pagination')\n",
    "next_page = pagination.find_elements(By.TAG_NAME, 'li')[4]\n",
    "next_page.find_element(By.TAG_NAME, 'a').click()"
   ]
  },
  {
   "cell_type": "code",
   "execution_count": null,
   "id": "0e61ebe4",
   "metadata": {},
   "outputs": [],
   "source": []
  },
  {
   "cell_type": "code",
   "execution_count": null,
   "id": "47bd1d5f",
   "metadata": {},
   "outputs": [],
   "source": [
    "#（本筋）GETメソッドによるURL末尾のクエリ'?page=n'のn(1~3)を回す\n",
    "# 入れ物を準備\n",
    "titles = []\n",
    "ranks = []\n",
    "categories = []\n",
    "\n",
    "browser = webdriver.Chrome()\n",
    "\n",
    "for page in range(1,4):\n",
    "\n",
    "    browser.get('https://scraping-for-beginner.herokuapp.com/ranking/?page={}'.format(page))\n",
    "\n"
   ]
  },
  {
   "cell_type": "code",
   "execution_count": null,
   "id": "9d1dfd10",
   "metadata": {},
   "outputs": [],
   "source": []
  }
 ],
 "metadata": {
  "kernelspec": {
   "display_name": "Python 3 (ipykernel)",
   "language": "python",
   "name": "python3"
  },
  "language_info": {
   "codemirror_mode": {
    "name": "ipython",
    "version": 3
   },
   "file_extension": ".py",
   "mimetype": "text/x-python",
   "name": "python",
   "nbconvert_exporter": "python",
   "pygments_lexer": "ipython3",
   "version": "3.11.4"
  }
 },
 "nbformat": 4,
 "nbformat_minor": 5
}
