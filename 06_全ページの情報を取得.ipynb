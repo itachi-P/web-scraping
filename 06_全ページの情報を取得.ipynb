{
 "cells": [
  {
   "cell_type": "code",
   "execution_count": 6,
   "id": "2904ab07",
   "metadata": {},
   "outputs": [],
   "source": [
    "from selenium import webdriver"
   ]
  },
  {
   "cell_type": "code",
   "execution_count": 7,
   "id": "82c66e83",
   "metadata": {},
   "outputs": [],
   "source": [
    "from selenium.webdriver.common.by import By"
   ]
  },
  {
   "cell_type": "code",
   "execution_count": 8,
   "id": "b3e5def1",
   "metadata": {},
   "outputs": [],
   "source": [
    "#（寄り道）ページ最下部の次のページへのリンクを押す方法\n",
    "# pagination = browser.find_element(By.ID, 'pagination')\n",
    "# next_page = pagination.find_elements(By.TAG_NAME, 'li')[4]\n",
    "# next_page.find_element(By.TAG_NAME, 'a').click()"
   ]
  },
  {
   "cell_type": "code",
   "execution_count": 9,
   "id": "0e61ebe4",
   "metadata": {},
   "outputs": [
    {
     "data": {
      "text/plain": [
       "'https://scraping-for-beginner.herokuapp.com/ranking/?page=3'"
      ]
     },
     "execution_count": 9,
     "metadata": {},
     "output_type": "execute_result"
    }
   ],
   "source": [
    "# テストコード - URLの動的生成\n",
    "i = 3\n",
    "'https://scraping-for-beginner.herokuapp.com/ranking/?page={}'.format(i)\n"
   ]
  },
  {
   "cell_type": "code",
   "execution_count": 10,
   "id": "47bd1d5f",
   "metadata": {},
   "outputs": [],
   "source": [
    "#（本筋）GETメソッドによるURL末尾のクエリ'?page=n'のn(1~3)を回す\n",
    "# 入れ物を準備\n",
    "titles = []\n",
    "ranks = []\n",
    "categories = []\n",
    "\n",
    "browser = webdriver.Chrome()\n",
    "\n",
    "# pagenationを1~3まで回して全30件の情報を取得する\n",
    "for page in range(1, 4):\n",
    "\n",
    "\turl = 'https://scraping-for-beginner.herokuapp.com/ranking/?page={}'.format(page)\n",
    "\tbrowser.get(url)\n",
    "\n",
    "\t# 観光地名\n",
    "\telems_rankingBox = browser.find_elements(By.CLASS_NAME, 'u_areaListRankingBox')\n",
    "\tfor elem_rankingBox in elems_rankingBox:\n",
    "\t\telem_title = elem_rankingBox.find_element(By.CLASS_NAME, 'u_title')\n",
    "\t\ttitle = elem_title.text.split('\\n')[1]\n",
    "\t\ttitles.append(title)\n",
    "\n",
    "\t# 総合評価\n",
    "\telems_rank = browser.find_elements(By.CLASS_NAME, 'u_rankBox')\n",
    "\tfor elem_rank in elems_rank:\n",
    "\t\telem_rank = elem_rank.find_element(By.CLASS_NAME, 'evaluateNumber')\n",
    "\t\trank = float(elem_rank.text) # Webスクレイピングで取ってきた数値は基本的に文字列になっている\n",
    "\t\tranks.append(rank)\n",
    "\n",
    "\t# 各項目の評価\n",
    "\telems = browser.find_elements(By.CLASS_NAME, 'u_categoryTipsItem')\n",
    "\tfor elem in elems:\n",
    "\t\telems_rank = elem.find_elements(By.CLASS_NAME, 'is_rank')\n",
    "\t\t_ranks = [] # 一時的な保存用\n",
    "\t# Pythonはインデントが狂うと動作がおかしくなるので超要警戒！！！\n",
    "\t\tfor elem_rank in elems_rank:\n",
    "\t\t\trank = elem_rank.find_element(By.CLASS_NAME, 'evaluateNumber').text\n",
    "\t\t\t_ranks.append(float(rank))\n",
    "\t\tcategories.append(_ranks)"
   ]
  },
  {
   "cell_type": "code",
   "execution_count": 11,
   "id": "09a8f7ea",
   "metadata": {},
   "outputs": [
    {
     "data": {
      "text/plain": [
       "['観光地 1',\n",
       " '観光地 2',\n",
       " '観光地 3',\n",
       " '観光地 4',\n",
       " '観光地 5',\n",
       " '観光地 6',\n",
       " '観光地 7',\n",
       " '観光地 8',\n",
       " '観光地 9',\n",
       " '観光地 10',\n",
       " '観光地 11',\n",
       " '観光地 12',\n",
       " '観光地 13',\n",
       " '観光地 14',\n",
       " '観光地 15',\n",
       " '観光地 16',\n",
       " '観光地 17',\n",
       " '観光地 18',\n",
       " '観光地 19',\n",
       " '観光地 20',\n",
       " '観光地 21',\n",
       " '観光地 22',\n",
       " '観光地 23',\n",
       " '観光地 24',\n",
       " '観光地 25',\n",
       " '観光地 26',\n",
       " '観光地 27',\n",
       " '観光地 28',\n",
       " '観光地 29',\n",
       " '観光地 30']"
      ]
     },
     "execution_count": 11,
     "metadata": {},
     "output_type": "execute_result"
    }
   ],
   "source": [
    "titles"
   ]
  },
  {
   "cell_type": "code",
   "execution_count": 12,
   "id": "b1d63ce3",
   "metadata": {},
   "outputs": [
    {
     "data": {
      "text/plain": [
       "[4.7,\n",
       " 4.7,\n",
       " 4.6,\n",
       " 4.5,\n",
       " 4.5,\n",
       " 4.4,\n",
       " 4.3,\n",
       " 4.3,\n",
       " 4.2,\n",
       " 4.1,\n",
       " 4.1,\n",
       " 4.0,\n",
       " 3.9,\n",
       " 3.9,\n",
       " 3.8,\n",
       " 3.7,\n",
       " 3.7,\n",
       " 3.6,\n",
       " 3.5,\n",
       " 3.5,\n",
       " 3.4,\n",
       " 3.3,\n",
       " 3.3,\n",
       " 3.2,\n",
       " 3.1,\n",
       " 3.1,\n",
       " 3.0,\n",
       " 2.9,\n",
       " 2.9,\n",
       " 2.8]"
      ]
     },
     "execution_count": 12,
     "metadata": {},
     "output_type": "execute_result"
    }
   ],
   "source": [
    "ranks"
   ]
  },
  {
   "cell_type": "code",
   "execution_count": 13,
   "id": "4fb0fe97",
   "metadata": {},
   "outputs": [
    {
     "data": {
      "text/plain": [
       "[[4.6, 4.5, 4.9, 4.2],\n",
       " [4.6, 4.5, 4.9, 4.2],\n",
       " [4.5, 4.4, 4.8, 4.1],\n",
       " [4.4, 4.4, 4.8, 4.0],\n",
       " [4.4, 4.3, 4.7, 4.0],\n",
       " [4.3, 4.3, 4.7, 3.9],\n",
       " [4.2, 4.2, 4.6, 3.8],\n",
       " [4.2, 4.2, 4.6, 3.8],\n",
       " [4.1, 4.1, 4.5, 3.7],\n",
       " [4.0, 4.1, 4.4, 3.6],\n",
       " [4.0, 4.0, 4.4, 3.6],\n",
       " [3.9, 4.0, 4.3, 3.5],\n",
       " [3.8, 3.9, 4.3, 3.4],\n",
       " [3.8, 3.9, 4.2, 3.4],\n",
       " [3.7, 3.8, 4.2, 3.3],\n",
       " [3.6, 3.8, 4.1, 3.2],\n",
       " [3.6, 3.7, 4.1, 3.2],\n",
       " [3.5, 3.7, 4.0, 3.1],\n",
       " [3.4, 3.6, 3.9, 3.0],\n",
       " [3.4, 3.6, 3.9, 3.0],\n",
       " [3.3, 3.5, 3.8, 2.9],\n",
       " [3.2, 3.5, 3.8, 2.8],\n",
       " [3.2, 3.4, 3.7, 2.8],\n",
       " [3.1, 3.4, 3.7, 2.7],\n",
       " [3.0, 3.3, 3.6, 2.6],\n",
       " [3.0, 3.3, 3.6, 2.6],\n",
       " [2.9, 3.2, 3.5, 2.5],\n",
       " [2.8, 3.2, 3.4, 2.4],\n",
       " [2.8, 3.1, 3.4, 2.4],\n",
       " [2.7, 3.1, 3.3, 2.3]]"
      ]
     },
     "execution_count": 13,
     "metadata": {},
     "output_type": "execute_result"
    }
   ],
   "source": [
    "categories"
   ]
  },
  {
   "cell_type": "markdown",
   "id": "97221773",
   "metadata": {},
   "source": [
    "### 取得した全ページの情報をデータフレームに格納し、csvファイルに保存する"
   ]
  },
  {
   "cell_type": "code",
   "execution_count": null,
   "id": "9350c7f9",
   "metadata": {},
   "outputs": [],
   "source": [
    "# todo: pandasでデータフレームに変換してcsvに保存する"
   ]
  }
 ],
 "metadata": {
  "kernelspec": {
   "display_name": "Python 3 (ipykernel)",
   "language": "python",
   "name": "python3"
  },
  "language_info": {
   "codemirror_mode": {
    "name": "ipython",
    "version": 3
   },
   "file_extension": ".py",
   "mimetype": "text/x-python",
   "name": "python",
   "nbconvert_exporter": "python",
   "pygments_lexer": "ipython3",
   "version": "3.11.4"
  }
 },
 "nbformat": 4,
 "nbformat_minor": 5
}
